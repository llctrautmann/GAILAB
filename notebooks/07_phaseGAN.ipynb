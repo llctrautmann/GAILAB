{
 "cells": [
  {
   "cell_type": "code",
   "execution_count": 57,
   "metadata": {},
   "outputs": [],
   "source": [
    "import numpy as np\n",
    "import torch\n",
    "import torch.nn as nn\n",
    "import torch.optim as optim\n",
    "import torchvision\n",
    "import torchvision.datasets as datasets\n",
    "import torchvision.transforms as transforms\n",
    "from torch.utils.data import DataLoader\n",
    "from torch.utils.tensorboard import SummaryWriter\n",
    "\n",
    "# autoreload\n",
    "%reload_ext autoreload\n",
    "%autoreload "
   ]
  },
  {
   "cell_type": "code",
   "execution_count": 133,
   "metadata": {},
   "outputs": [],
   "source": [
    "class ConvBlock(nn.Module):\n",
    "    def __init__(self, in_channels=64, out_channels=64,kernel_size=5, stride=1,requires_sum=True,generator=True):\n",
    "        super(ConvBlock, self).__init__()\n",
    "        self.requires_sum = requires_sum\n",
    "        self.block = nn.Sequential(\n",
    "            nn.Conv2d(in_channels=in_channels, out_channels=out_channels, kernel_size=kernel_size,stride=stride, padding='same' if generator else 2),\n",
    "            nn.PReLU() if generator else nn.LeakyReLU(),\n",
    "            nn.Conv2d(out_channels, out_channels, kernel_size=kernel_size,stride=stride, padding='same' if generator else 2) if self.requires_sum else nn.Identity()) # changed in_channels to out_channels 15 Jul 2023 @ 15:39:28\n",
    "        \n",
    "    def forward(self, x):\n",
    "        if self.requires_sum is True:\n",
    "            out = self.block(x)\n",
    "            return x + out\n",
    "        else:\n",
    "            out = self.block(x)\n",
    "            return out\n",
    "        \n",
    "\n",
    "\n",
    "class ConvBlock1D(nn.Module): # Requires to be rewritten to incooperate the 1DConvolutions\n",
    "    def __init__(self,in_channels=1, out_channels=64,kernel_size=32, stride=2,padding=2):\n",
    "        super(ConvBlock1D, self).__init__()\n",
    "        self.block = nn.Sequential(\n",
    "            nn.Conv1d(in_channels=in_channels, out_channels=out_channels, kernel_size=kernel_size, stride=stride, padding=padding),\n",
    "            nn.LeakyReLU(),\n",
    "            nn.Conv1d(in_channels=out_channels, out_channels=out_channels, kernel_size=kernel_size, stride=stride, padding=padding),\n",
    "            nn.LeakyReLU()\n",
    "        )\n",
    "\n",
    "    def forward(self,x):\n",
    "        return self.block(x)\n",
    "    \n",
    "\n",
    "\n",
    "class Generator(nn.Module):\n",
    "    def __init__(self,in_channel=2, out_channel=64, blocks=4):\n",
    "        super(Generator, self).__init__()\n",
    "        self.initial = nn.Sequential(\n",
    "            nn.Conv2d(in_channels=in_channel, out_channels=out_channel,kernel_size=11,stride=1,padding='same'),\n",
    "            nn.PReLU()\n",
    "        )\n",
    "\n",
    "        self.blocks = nn.Sequential(*[ConvBlock() for _ in range(blocks)])\n",
    "        self.conv = nn.Conv2d(in_channels=out_channel, out_channels=out_channel,kernel_size=5,stride=1,padding='same')\n",
    "\n",
    "        self.terminal = nn.Sequential(\n",
    "            ConvBlock(in_channels=out_channel, out_channels=out_channel,requires_sum=False),\n",
    "            ConvBlock(in_channels=out_channel, out_channels=out_channel,requires_sum=False),\n",
    "            nn.Conv2d(in_channels=out_channel, out_channels=3,kernel_size=11,stride=1,padding='same')\n",
    "        )\n",
    "\n",
    "    def forward(self, z):\n",
    "        # https://de.wikipedia.org/wiki/Arctan2\n",
    "        z = self.initial(z)\n",
    "        out = self.blocks(z)\n",
    "        out = self.conv(out)\n",
    "        out = out + z\n",
    "        out = self.terminal(out)\n",
    "\n",
    "        mag  = out[:,:1,:,:]\n",
    "        phase = torch.arctan2(out[:,1:2,:,:], out[:,2:,:,:])\n",
    "        out = torch.cat([mag, phase],dim=1)\n",
    "        return out, out.shape \n",
    "\n",
    "\n",
    "class Discriminator(nn.Module):\n",
    "    def __init__(self,in_channels=3,out_channels=32,in_features=2048,out_features=512,in_features_final=2048,blocks=2):\n",
    "        super(Discriminator, self).__init__()\n",
    "        self.isft_height = 1\n",
    "        self.isft_width = 1\n",
    "        self.batch_size = 4\n",
    "        \n",
    "        self.magnitude_path = nn.Sequential(\n",
    "            ConvBlock(in_channels=1,out_channels=out_channels,stride=2,requires_sum=False,generator=False),\n",
    "            ConvBlock(in_channels=out_channels,out_channels=out_channels,stride=2,requires_sum=False,generator=False),\n",
    "            nn.Flatten(1,-1),\n",
    "            nn.Linear(in_features=32*self.isft_height*self.isft_width ,out_features=32*self.isft_height*self.isft_width),\n",
    "            nn.LeakyReLU()\n",
    "            )\n",
    "        \n",
    "        self.phase_path = ConvBlock1D()\n",
    "\n",
    "        # [f(x) if condition else g(x) for x in sequence]\n",
    "        self.blocks = nn.Sequential(*[ConvBlock1D(in_channels=1, out_channels=64) if blocks == 0 else ConvBlock1D(in_channels=64, out_channels=64) for _ in range(blocks)])\n",
    "\n",
    "        self.terminal = nn.Sequential(\n",
    "            nn.Linear(in_features=in_features_final,out_features=1024),\n",
    "            nn.LeakyReLU(),\n",
    "            nn.Linear(in_features=1024,out_features=1)\n",
    "        )\n",
    "\n",
    "\n",
    "    def forward(self, comp, magnitude):\n",
    "        \n",
    "\n",
    "        phase = torch.istft(comp,n_fft=128)\n",
    "        phase = self.phase_path(phase)\n",
    "\n",
    "        self.isft_width = phase.shape[1]\n",
    "        self.isft_height = phase.shape[2]\n",
    "\n",
    "        mag = self.magnitude_path(magnitude) # will be 32 * H_mag * W_mag\n",
    "\n",
    "        # out = torch.cat([mag,phase])\n",
    "        # out = self.blocks(out)\n",
    "        # return self.terminal(out)\n",
    "\n",
    "    @staticmethod\n",
    "    def convert_to_complex(mag, angle):\n",
    "        # https://dsp.stackexchange.com/a/72172 \n",
    "        return mag*(np.cos(angle)+1j* np.sin(angle))"
   ]
  },
  {
   "cell_type": "code",
   "execution_count": 117,
   "metadata": {},
   "outputs": [],
   "source": [
    "x = torch.randn(128,1,4,4)\n",
    "\n",
    "gen = Generator(1, 64, 4)\n",
    "disc = Discriminator(in_features=32*7*7)\n",
    "tens, shp = gen(x)"
   ]
  },
  {
   "cell_type": "code",
   "execution_count": 118,
   "metadata": {},
   "outputs": [
    {
     "data": {
      "text/plain": [
       "torch.Size([4, 2, 29, 29])"
      ]
     },
     "execution_count": 118,
     "metadata": {},
     "output_type": "execute_result"
    }
   ],
   "source": [
    "from src.data_loader import *\n",
    "import os\n",
    "\n",
    "\n",
    "path = '../data/AudioMNIST_Indicies/dummy_labels.csv'\n",
    "root_dir = '../data/AudioMNIST/'\n",
    "\n",
    "data = AvianNatureSounds(annotation_file=path,root_dir=root_dir,mode='testing',max_ms=56)\n",
    "train_loader = DataLoader(dataset=data, batch_size=4, shuffle=True)\n",
    "batch = next(iter(train_loader)) \n",
    "\n",
    "batch[0].shape"
   ]
  },
  {
   "cell_type": "code",
   "execution_count": 119,
   "metadata": {},
   "outputs": [],
   "source": [
    "import torch\n",
    "\n",
    "input_tensor = torch.randn((4,3,28,28))\n",
    "\n",
    "# Assuming you have your 3-channel tensor named 'input_tensor'\n",
    "# Shape of input_tensor: [4, 3, 28, 28]\n",
    "\n",
    "# Extract the second and third channels\n",
    "second_channel = input_tensor[:, 1, :, :]\n",
    "third_channel = input_tensor[:, 2, :, :]\n",
    "\n",
    "# Apply arctan2 to the values of the second and third channels\n",
    "output_tensor = torch.atan2(third_channel, second_channel)\n",
    "\n",
    "# Create a new tensor by stacking the second and third channels along a new dimension\n",
    "# output_tensor = torch.stack([second_channel, third_channel], dim=1)\n",
    "\n",
    "# Shape of output_tensor: [4, 2, 28, 28]\n"
   ]
  },
  {
   "cell_type": "code",
   "execution_count": 120,
   "metadata": {},
   "outputs": [
    {
     "data": {
      "text/plain": [
       "torch.Size([4, 28, 28])"
      ]
     },
     "execution_count": 120,
     "metadata": {},
     "output_type": "execute_result"
    }
   ],
   "source": [
    "output_tensor.shape"
   ]
  },
  {
   "cell_type": "code",
   "execution_count": 173,
   "metadata": {},
   "outputs": [
    {
     "name": "stdout",
     "output_type": "stream",
     "text": [
      "torch.Size([4, 64, 157])\n",
      "torch.Size([40192])\n",
      "tensor([-0.0187], grad_fn=<AddBackward0>)\n"
     ]
    }
   ],
   "source": [
    "x = torch.randn((4, 3,200,200))\n",
    "\n",
    "mag  = x[:,:1,:,:]\n",
    "b = x[:,1:2,:,:]\n",
    "c = x[:,2:,:,:]\n",
    "\n",
    "# print(a.shape,b.shape,c.shape)\n",
    "phase = torch.arctan2(b, c)\n",
    "\n",
    "# out = torch.cat([mag, phase],dim=1)\n",
    "# print(out.shape)\n",
    "\n",
    "def convert_to_complex(mag, angle):\n",
    "    return mag*(np.cos(angle)+1j* np.sin(angle))\n",
    "\n",
    "out = convert_to_complex(mag, phase)\n",
    "\n",
    "bz = out.shape[0]\n",
    "out_signal = None\n",
    "\n",
    "for i in range(bz):\n",
    "\n",
    "    signal = torch.istft(out[i],n_fft=200)\n",
    "\n",
    "    signal = signal.unsqueeze(1)\n",
    "\n",
    "\n",
    "    if i == 0:\n",
    "        out_signal = signal.clone()\n",
    "\n",
    "    else:\n",
    "        out_signal = torch.concat([out_signal, signal], dim=0) \n",
    "\n",
    "\n",
    "\n",
    "\n",
    "blk = nn.Conv1d(1,32,32,2,padding=16)\n",
    "blk = ConvBlock1D(1,64,padding=16)\n",
    "blk_ = ConvBlock1D(64,64,padding=16)\n",
    "lin = nn.Linear(in_features=out.flatten().shape[0],out_features=1024)\n",
    "lin_final = nn.Linear(in_features=1024,out_features=1)\n",
    "rel = nn.LeakyReLU()\n",
    "\n",
    "blk_(blk_(blk(out_signal))).shape\n",
    "out = blk_(blk_(blk(out_signal)))\n",
    "\n",
    "print(out.shape)\n",
    "\n",
    "out = out.flatten()\n",
    "\n",
    "print(out.shape)\n",
    "lin = nn.Linear(in_features=out.flatten().shape[0],out_features=1024)\n",
    "\n",
    "\n",
    "out = lin(out)\n",
    "out = rel(out)\n",
    "val = lin_final(out)\n",
    "\n",
    "print(val)\n",
    "\n",
    "\n",
    "\n"
   ]
  },
  {
   "cell_type": "code",
   "execution_count": 135,
   "metadata": {},
   "outputs": [
    {
     "data": {
      "text/plain": [
       "78976"
      ]
     },
     "execution_count": 135,
     "metadata": {},
     "output_type": "execute_result"
    }
   ],
   "source": [
    "32 * 2468"
   ]
  },
  {
   "cell_type": "code",
   "execution_count": null,
   "metadata": {},
   "outputs": [],
   "source": []
  }
 ],
 "metadata": {
  "kernelspec": {
   "display_name": ".venv",
   "language": "python",
   "name": "python3"
  },
  "language_info": {
   "codemirror_mode": {
    "name": "ipython",
    "version": 3
   },
   "file_extension": ".py",
   "mimetype": "text/x-python",
   "name": "python",
   "nbconvert_exporter": "python",
   "pygments_lexer": "ipython3",
   "version": "3.10.1"
  },
  "orig_nbformat": 4
 },
 "nbformat": 4,
 "nbformat_minor": 2
}
