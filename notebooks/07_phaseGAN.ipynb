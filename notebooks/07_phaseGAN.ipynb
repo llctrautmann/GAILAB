{
 "cells": [
  {
   "cell_type": "code",
   "execution_count": 2,
   "metadata": {},
   "outputs": [],
   "source": [
    "import torch\n",
    "import torch.nn as nn\n",
    "import torch.optim as optim\n",
    "import torchvision\n",
    "import torchvision.datasets as datasets\n",
    "import torchvision.transforms as transforms\n",
    "from torch.utils.data import DataLoader\n",
    "from torch.utils.tensorboard import SummaryWriter\n",
    "\n",
    "# autoreload\n",
    "%reload_ext autoreload\n",
    "%autoreload 2"
   ]
  },
  {
   "cell_type": "code",
   "execution_count": 42,
   "metadata": {},
   "outputs": [],
   "source": [
    "class ConvBlock(nn.Module):\n",
    "    def __init__(self, in_channels=64, out_channels=64,kernel_size=5, stride=1,requires_sum=True,generator=True):\n",
    "        super(ConvBlock, self).__init__()\n",
    "        self.requires_sum = requires_sum\n",
    "        self.block = nn.Sequential(\n",
    "            nn.Conv2d(in_channels=in_channels, out_channels=out_channels, kernel_size=kernel_size,stride=stride, padding='same' if generator else 2),\n",
    "            nn.PReLU() if generator else nn.LeakyReLU(),\n",
    "            nn.Conv2d(out_channels, out_channels, kernel_size=kernel_size,stride=stride, padding='same' if generator else 2) if self.requires_sum else nn.Identity()) # changed in_channels to out_channels 15 Jul 2023 @ 15:39:28\n",
    "        \n",
    "    def forward(self, x):\n",
    "        if self.requires_sum is True:\n",
    "            out = self.block(x)\n",
    "            return x + out\n",
    "        else:\n",
    "            out = self.block(x)\n",
    "            return out\n",
    "        \n",
    "\n",
    "\n",
    "class ConvBlock1D(nn.Module):\n",
    "    def __init__(self,in_channels=1, out_channels=32,kernel_size=(1,32), stride=2,padding=2):\n",
    "        super(ConvBlock1D, self).__init__()\n",
    "        self.block = nn.Sequential(\n",
    "            nn.Conv2d(in_channels=in_channels, out_channels=out_channels, kernel_size=kernel_size, stride=stride, padding=padding),\n",
    "            nn.LeakyReLU(),\n",
    "            nn.Conv2d(in_channels=out_channels, out_channels=out_channels, kernel_size=kernel_size, stride=stride, padding=padding),\n",
    "            nn.LeakyReLU()\n",
    "        )\n",
    "\n",
    "    def forward(self,x):\n",
    "        return self.block(x)\n",
    "    \n",
    "\n",
    "\n",
    "class Generator(nn.Module):\n",
    "    def __init__(self,in_channel=2, out_channel=64, blocks=4):\n",
    "        super(Generator, self).__init__()\n",
    "        self.initial = nn.Sequential(\n",
    "            nn.Conv2d(in_channels=in_channel, out_channels=out_channel,kernel_size=11,stride=1,padding='same'),\n",
    "            nn.PReLU()\n",
    "        )\n",
    "\n",
    "        self.blocks = nn.Sequential(*[ConvBlock() for _ in range(blocks)])\n",
    "        self.conv = nn.Conv2d(in_channels=out_channel, out_channels=out_channel,kernel_size=5,stride=1,padding='same')\n",
    "\n",
    "        self.terminal = nn.Sequential(\n",
    "            ConvBlock(in_channels=out_channel, out_channels=out_channel,requires_sum=False),\n",
    "            ConvBlock(in_channels=out_channel, out_channels=out_channel,requires_sum=False),\n",
    "            nn.Conv2d(in_channels=out_channel, out_channels=2,kernel_size=11,stride=1,padding='same')\n",
    "        )\n",
    "\n",
    "    def forward(self, z):\n",
    "        z = self.initial(z)\n",
    "        out = self.blocks(z)\n",
    "        out = self.conv(out)\n",
    "        out = out + z\n",
    "        return self.terminal(out)\n",
    "\n",
    "\n",
    "class Discriminator(nn.Module):\n",
    "    def __init__(self,in_channels=3,out_channels=32,in_features=2048,out_features=512,in_features_final=2048,blocks=2):\n",
    "        super(Discriminator, self).__init__()\n",
    "        \n",
    "        self.magnitude_path = nn.Sequential(\n",
    "            ConvBlock(in_channels=1,out_channels=out_channels,stride=2,requires_sum=False,generator=False),\n",
    "            ConvBlock(in_channels=out_channels,out_channels=out_channels,stride=2,requires_sum=False,generator=False),\n",
    "            nn.Flatten(1,-1),\n",
    "            nn.Linear(in_features=in_features,out_features=in_features),\n",
    "            nn.LeakyReLU()\n",
    "            )\n",
    "        \n",
    "        self.phase_path = ConvBlock1D()\n",
    "\n",
    "        # [f(x) if condition else g(x) for x in sequence]\n",
    "        self.blocks = nn.Sequential(*[ConvBlock1D(in_channels=1, out_channels=64) if blocks == 0 else ConvBlock1D(in_channels=64, out_channels=64) for _ in range(blocks)])\n",
    "\n",
    "        self.terminal = nn.Sequential(\n",
    "            nn.Linear(in_features=in_features_final,out_features=1024),\n",
    "            nn.LeakyReLU(),\n",
    "            nn.Linear(in_features=1024,out_features=1)\n",
    "        )\n",
    "\n",
    "\n",
    "    def forward(self, comp, magnitude):\n",
    "        mag = self.magnitude_path(magnitude) # will be 32 * H_mag * W_mag\n",
    "        print(mag.shape)\n",
    "        phase = torch.istft(comp,n_fft=128)\n",
    "        phase = self.phase_path(phase)\n",
    "\n",
    "        # out = torch.cat([mag,phase])\n",
    "        # out = self.blocks(out)\n",
    "        # return self.terminal(out)"
   ]
  },
  {
   "cell_type": "code",
   "execution_count": null,
   "metadata": {},
   "outputs": [],
   "source": [
    "x = torch.randn(4,2,64,64)\n",
    "residual = torch.randn(4,64,64,64)\n",
    "\n",
    "\n",
    "gen = Generator(2, 64, 4)\n",
    "disc = Discriminator(in_features=32*7*7)\n",
    "\n",
    "\n",
    "t1, t2 = torch.randn(1,2,28,28), torch.randn(1,1,28,28)\n",
    "\n",
    "disc(t1,t2)\n"
   ]
  },
  {
   "cell_type": "code",
   "execution_count": 48,
   "metadata": {},
   "outputs": [
    {
     "data": {
      "text/plain": [
       "torch.Size([4, 2, 29, 29])"
      ]
     },
     "execution_count": 48,
     "metadata": {},
     "output_type": "execute_result"
    }
   ],
   "source": [
    "from src.data_loader import *\n",
    "import os\n",
    "\n",
    "\n",
    "path = '../data/AudioMNIST_Indicies/dummy_labels.csv'\n",
    "root_dir = '../data/AudioMNIST/'\n",
    "\n",
    "data = AvianNatureSounds(annotation_file=path,root_dir=root_dir,mode='testing',max_ms=56)\n",
    "train_loader = DataLoader(dataset=data, batch_size=4, shuffle=True)\n",
    "batch = next(iter(train_loader)) \n",
    "\n",
    "batch[0].shape"
   ]
  },
  {
   "cell_type": "code",
   "execution_count": 22,
   "metadata": {},
   "outputs": [
    {
     "data": {
      "text/plain": [
       "torch.Size([4, 3, 28, 28])"
      ]
     },
     "execution_count": 22,
     "metadata": {},
     "output_type": "execute_result"
    }
   ],
   "source": [
    "conv = nn.Conv2d(1, 3, 5,1,2)\n",
    "t = torch.randn((4,1,28,28)) # (K - 1) / 2 \n",
    "\n",
    "conv(t).shape"
   ]
  },
  {
   "cell_type": "code",
   "execution_count": 28,
   "metadata": {},
   "outputs": [
    {
     "data": {
      "text/plain": [
       "torch.Size([4, 32, 14, 14])"
      ]
     },
     "execution_count": 28,
     "metadata": {},
     "output_type": "execute_result"
    }
   ],
   "source": [
    "class ConvBlock(nn.Module):\n",
    "    def __init__(self, in_channels=64, out_channels=64,kernel_size=5, stride=1,requires_sum=True,generator=True):\n",
    "        super(ConvBlock, self).__init__()\n",
    "        self.requires_sum = requires_sum\n",
    "        self.block = nn.Sequential(\n",
    "            nn.Conv2d(in_channels=in_channels, out_channels=out_channels, kernel_size=kernel_size,stride=stride, padding='same' if generator else 2),\n",
    "            nn.PReLU() if generator else nn.LeakyReLU(),\n",
    "            nn.Conv2d(out_channels, out_channels, kernel_size=kernel_size,stride=stride, padding='same' if generator else 2) if self.requires_sum else nn.Identity()) # changed in_channels to out_channels 15 Jul 2023 @ 15:39:28\n",
    "        \n",
    "    def forward(self, x):\n",
    "        if self.requires_sum is True:\n",
    "            out = self.block(x)\n",
    "            return x + out\n",
    "        else:\n",
    "            out = self.block(x)\n",
    "            return out \n",
    "        \n",
    "cv = ConvBlock(1,32,5,2,False, False)\n",
    "t = torch.randn((4,1,28,28))\n",
    "\n",
    "cv(t).shape"
   ]
  },
  {
   "cell_type": "code",
   "execution_count": null,
   "metadata": {},
   "outputs": [],
   "source": []
  }
 ],
 "metadata": {
  "kernelspec": {
   "display_name": ".venv",
   "language": "python",
   "name": "python3"
  },
  "language_info": {
   "codemirror_mode": {
    "name": "ipython",
    "version": 3
   },
   "file_extension": ".py",
   "mimetype": "text/x-python",
   "name": "python",
   "nbconvert_exporter": "python",
   "pygments_lexer": "ipython3",
   "version": "3.10.1"
  },
  "orig_nbformat": 4
 },
 "nbformat": 4,
 "nbformat_minor": 2
}
