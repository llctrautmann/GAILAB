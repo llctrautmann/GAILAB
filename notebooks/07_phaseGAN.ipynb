{
 "cells": [
  {
   "cell_type": "code",
   "execution_count": 1,
   "metadata": {},
   "outputs": [],
   "source": [
    "import torch\n",
    "import torch.nn as nn\n",
    "import torch.optim as optim\n",
    "import torchvision\n",
    "import torchvision.datasets as datasets\n",
    "import torchvision.transforms as transforms\n",
    "from torch.utils.data import DataLoader\n",
    "from torch.utils.tensorboard import SummaryWriter"
   ]
  },
  {
   "cell_type": "code",
   "execution_count": 2,
   "metadata": {},
   "outputs": [],
   "source": [
    "class ConvBlock(nn.Module):\n",
    "    def __init__(self, in_channels=64, out_channels=64,kernel_size=5, stride=1,requires_sum=True,generator=True):\n",
    "        super(ConvBlock, self).__init__()\n",
    "        self.requires_sum = requires_sum\n",
    "        self.block = nn.Sequential(\n",
    "            nn.Conv2d(in_channels, out_channels, kernel_size=kernel_size,stride=stride, padding='same'),\n",
    "            nn.PReLU() if generator else nn.LeakyReLU(),\n",
    "            nn.Conv2d(in_channels, out_channels, kernel_size=kernel_size,stride=stride, padding='same') if requires_sum else nn.Identity())\n",
    "        \n",
    "    def forward(self, x):\n",
    "        if self.requires_sum is True:\n",
    "            out = self.block(x)\n",
    "            return x + out\n",
    "        else:\n",
    "            out = self.block(x)\n",
    "            return x\n",
    "        \n",
    "\n",
    "\n",
    "\n",
    "class Generator(nn.Module):\n",
    "    def __init__(self,in_channel=2, out_channel=64, blocks=4):\n",
    "        super(Generator, self).__init__()\n",
    "        self.initial = nn.Sequential(\n",
    "            nn.Conv2d(in_channels=in_channel, out_channels=out_channel,kernel_size=11,stride=1,padding='same'),\n",
    "            nn.PReLU()\n",
    "        )\n",
    "\n",
    "        self.blocks = nn.Sequential(*[ConvBlock() for _ in range(blocks)])\n",
    "        self.conv = nn.Conv2d(in_channels=out_channel, out_channels=out_channel,kernel_size=5,stride=1,padding='same')\n",
    "\n",
    "        self.terminal = nn.Sequential(\n",
    "            ConvBlock(in_channels=out_channel, out_channels=out_channel,requires_sum=False),\n",
    "            ConvBlock(in_channels=out_channel, out_channels=out_channel,requires_sum=False),\n",
    "            nn.Conv2d(in_channels=out_channel, out_channels=2,kernel_size=11,stride=1,padding='same')\n",
    "        )\n",
    "\n",
    "    def forward(self, z):\n",
    "        z = self.initial(z)\n",
    "        out = self.blocks(z)\n",
    "        out = self.conv(out)\n",
    "        out = out + z\n",
    "        return self.terminal(out)\n",
    "\n",
    "\n",
    "\n",
    "       \n",
    "class Discriminator(nn.Module):\n",
    "    def __init__(self,in_channels=3,out_channels=32):\n",
    "        super(Discriminator, self).__init__()\n",
    "        \n",
    "        \n",
    "        self.magnitude_path = nn.Sequential(\n",
    "            ConvBlock(in_channels=1,out_channels=out_channels,stride=2,requires_sum=False,generator=False),\n",
    "            ConvBlock(in_channels=out_channels,out_channels=out_channels,stride=2,requires_sum=False,generator=False),\n",
    "            nn.Flatten(1,-1),\n",
    "            nn.Linear(in_features=2048,out_features=)\n",
    "            )\n",
    "        \n",
    "        \n",
    "\n",
    "    \n",
    "    def forward(self, complex, magnitude):\n",
    "        pass"
   ]
  },
  {
   "cell_type": "code",
   "execution_count": 4,
   "metadata": {},
   "outputs": [
    {
     "data": {
      "text/plain": [
       "torch.Size([4, 2, 64, 64])"
      ]
     },
     "execution_count": 4,
     "metadata": {},
     "output_type": "execute_result"
    }
   ],
   "source": [
    "x = torch.randn(4,2,64,64)\n",
    "residual = torch.randn(4,64,64,64)\n",
    "\n",
    "\n",
    "gen = Generator(2, 64, 4)\n",
    "\n",
    "gen(x).shape"
   ]
  },
  {
   "cell_type": "code",
   "execution_count": 6,
   "metadata": {},
   "outputs": [
    {
     "data": {
      "text/plain": [
       "torch.Size([4, 8192])"
      ]
     },
     "execution_count": 6,
     "metadata": {},
     "output_type": "execute_result"
    }
   ],
   "source": [
    "x.flatten(1,-1).shape"
   ]
  },
  {
   "cell_type": "code",
   "execution_count": 9,
   "metadata": {},
   "outputs": [
    {
     "data": {
      "text/plain": [
       "2048"
      ]
     },
     "execution_count": 9,
     "metadata": {},
     "output_type": "execute_result"
    }
   ],
   "source": [
    "32 * 8 * 8"
   ]
  },
  {
   "cell_type": "code",
   "execution_count": null,
   "metadata": {},
   "outputs": [],
   "source": []
  }
 ],
 "metadata": {
  "kernelspec": {
   "display_name": ".venv",
   "language": "python",
   "name": "python3"
  },
  "language_info": {
   "codemirror_mode": {
    "name": "ipython",
    "version": 3
   },
   "file_extension": ".py",
   "mimetype": "text/x-python",
   "name": "python",
   "nbconvert_exporter": "python",
   "pygments_lexer": "ipython3",
   "version": "3.10.1"
  },
  "orig_nbformat": 4
 },
 "nbformat": 4,
 "nbformat_minor": 2
}
