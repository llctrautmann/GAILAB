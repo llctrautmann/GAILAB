{
 "cells": [
  {
   "cell_type": "code",
   "execution_count": null,
   "metadata": {},
   "outputs": [],
   "source": [
    "# Key ideas in ProGAN\n",
    "\n",
    "# - Progressive growing of the resolution\n",
    "# - Minibatch standardization\n",
    "# - Pixel Norm\n",
    "# - Equalized learning rate\n",
    "\n",
    "# Architecture\n",
    "\n",
    "# - both the descriminator and the generator are mirror images of each other\n",
    "# - much faster traiing time\n",
    "# - use minibatch standardization"
   ]
  }
 ],
 "metadata": {
  "language_info": {
   "name": "python"
  },
  "orig_nbformat": 4
 },
 "nbformat": 4,
 "nbformat_minor": 2
}
