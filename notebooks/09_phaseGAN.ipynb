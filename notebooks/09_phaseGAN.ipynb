{
 "cells": [
  {
   "cell_type": "code",
   "execution_count": 1,
   "metadata": {},
   "outputs": [],
   "source": [
    "import torch\n",
    "import torch.nn as nn\n",
    "import torch.optim as optim\n",
    "import torchvision\n",
    "import torchvision.datasets as datasets\n",
    "import torchvision.transforms as transforms\n",
    "from torch.utils.data import DataLoader\n",
    "from torch.utils.tensorboard import SummaryWriter"
   ]
  },
  {
   "cell_type": "code",
   "execution_count": 9,
   "metadata": {},
   "outputs": [],
   "source": [
    "class ConvBlock(nn.Module):\n",
    "    def __init__(self, in_channels, out_channels,kernel_size=3, stride=1, padding=1,requires_sum=True):\n",
    "        super(ConvBlock, self).__init__()\n",
    "\n",
    "        self.block = nn.Sequential(\n",
    "            nn.Conv2d(in_channels, out_channels, kernel_size=kernel_size,stride=stride, padding='same'),\n",
    "            nn.PReLU(),\n",
    "            nn.Conv2d(in_channels, out_channels, kernel_size=kernel_size,stride=stride, padding=padding) if requires_sum else nn.Identity())\n",
    "        \n",
    "    def forward(self, x,residual=None):\n",
    "        if residual is not None:\n",
    "            x = self.block(x)\n",
    "            return x + residual\n",
    "        else:\n",
    "            x = self.block(x)\n",
    "            return x\n",
    "\n",
    "        \n",
    "\n",
    "class Discriminator(nn.Module):\n",
    "    def __init__(self):\n",
    "        super(Discriminator, self).__init__()\n",
    "    \n",
    "    def forward(self, x):\n",
    "        pass\n",
    "\n",
    "\n",
    "class Generator(nn.Module):\n",
    "    def __init__(self,in_channel=1, out_channel=64, kernel_size=3,stride=1,padding=0):\n",
    "        super(Generator, self).__init__()\n",
    "        self.initial = nn.Sequential(\n",
    "            nn.Conv2d(in_channels=1, out_channels=64,kernel_size=11,stride=1),\n",
    "            nn.PReLU()\n",
    "        )\n",
    "\n",
    "\n",
    "    def forward(self, z):\n",
    "        pass"
   ]
  },
  {
   "cell_type": "code",
   "execution_count": 6,
   "metadata": {},
   "outputs": [],
   "source": [
    "x = torch.randn(4,3,512,512)\n",
    "\n",
    "conv1 = nn.Conv2d(in_channels=3, out_channels=32, kernel_size=11,stride=1,padding='same')\n",
    "conv2 = nn.Conv2d(in_channels=32, out_channels=32, kernel_size=5,stride=1,padding='same')\n"
   ]
  },
  {
   "cell_type": "code",
   "execution_count": 8,
   "metadata": {},
   "outputs": [
    {
     "data": {
      "text/plain": [
       "torch.Size([4, 32, 512, 512])"
      ]
     },
     "execution_count": 8,
     "metadata": {},
     "output_type": "execute_result"
    }
   ],
   "source": [
    "conv2(conv1(x)).shape"
   ]
  },
  {
   "cell_type": "code",
   "execution_count": null,
   "metadata": {},
   "outputs": [],
   "source": []
  }
 ],
 "metadata": {
  "kernelspec": {
   "display_name": ".venv",
   "language": "python",
   "name": "python3"
  },
  "language_info": {
   "codemirror_mode": {
    "name": "ipython",
    "version": 3
   },
   "file_extension": ".py",
   "mimetype": "text/x-python",
   "name": "python",
   "nbconvert_exporter": "python",
   "pygments_lexer": "ipython3",
   "version": "3.10.1"
  },
  "orig_nbformat": 4
 },
 "nbformat": 4,
 "nbformat_minor": 2
}
