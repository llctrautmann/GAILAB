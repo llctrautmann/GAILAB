{
 "cells": [
  {
   "cell_type": "code",
   "execution_count": 1,
   "metadata": {},
   "outputs": [],
   "source": [
    "from dataclasses import dataclass\n",
    "import torch.nn as nn\n",
    "from torch.optim import RMSprop, Adam, SGD\n",
    "\n",
    "@dataclass\n",
    "class Hyperparameter:\n",
    "    # dataloader args\n",
    "    annotation_file_path: str = '../data/AvianID_AcousticIndices/UK_AI.csv'\n",
    "    root_dir: str = '../data/UK_BIRD/'\n",
    "    key: str = 'habitat'\n",
    "    mode: str = 'stft'\n",
    "    length: int = 5\n",
    "    sampling_rate: int = 44100\n",
    "    n_fft: int = 1024\n",
    "    hop_length: int = 512\n",
    "    downsample: bool = True\n",
    "    mel_spectrogram: bool = None\n",
    "    verbose: bool = False\n",
    "    fixed_limit: bool = True\n",
    "\n",
    "    # Training args\n",
    "    epochs: int = 100\n",
    "    batch_size: int = 16\n",
    "    num_workers: int = 8\n",
    "    lr: float = 0.0001\n",
    "    beta1: float = 0.5\n",
    "    beta2: float = 0.999\n",
    "    weight_decay: float = 0.0\n",
    "\n",
    "    # Model args\n",
    "    criterion: str = nn.L1Loss()\n",
    "    optimizer: str = RMSprop()\n",
    "    "
   ]
  }
 ],
 "metadata": {
  "kernelspec": {
   "display_name": ".venv",
   "language": "python",
   "name": "python3"
  },
  "language_info": {
   "codemirror_mode": {
    "name": "ipython",
    "version": 3
   },
   "file_extension": ".py",
   "mimetype": "text/x-python",
   "name": "python",
   "nbconvert_exporter": "python",
   "pygments_lexer": "ipython3",
   "version": "3.10.1"
  },
  "orig_nbformat": 4
 },
 "nbformat": 4,
 "nbformat_minor": 2
}
