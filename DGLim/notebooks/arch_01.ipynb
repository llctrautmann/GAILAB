{
 "cells": [
  {
   "cell_type": "code",
   "execution_count": 50,
   "metadata": {},
   "outputs": [],
   "source": [
    "import torch\n",
    "import torch.nn as nn\n",
    "\n",
    "# from .istft import InverseSTFT\n",
    "\n",
    "\n",
    "class ConvGLU(nn.Module):\n",
    "    def __init__(self, in_ch, out_ch, kernel_size=(7, 7), padding=None, batchnorm=False):\n",
    "        super().__init__()\n",
    "        if not padding:\n",
    "            padding = (kernel_size[0] // 2, kernel_size[1] // 2)\n",
    "        self.conv = nn.Conv2d(in_ch, out_ch * 2, kernel_size, padding=padding)\n",
    "        if batchnorm:\n",
    "            self.conv = nn.Sequential(\n",
    "                self.conv,\n",
    "                nn.BatchNorm2d(out_ch * 2)\n",
    "            )\n",
    "        self.sigmoid = nn.Sigmoid()\n",
    "\n",
    "    def forward(self, x):\n",
    "        x = self.conv(x)\n",
    "        ch = x.shape[1]\n",
    "        x = x[:, :ch//2, ...] * self.sigmoid(x[:, ch//2:, ...])\n",
    "        return x\n",
    "\n",
    "\n",
    "class DeGLI_DNN(nn.Module):\n",
    "    def __init__(self):\n",
    "        super().__init__()\n",
    "        ch_hidden = 16\n",
    "        self.convglu_first = ConvGLU(6, ch_hidden, kernel_size=(11, 11), batchnorm=True)\n",
    "        self.two_convglus = nn.Sequential(\n",
    "            ConvGLU(ch_hidden, ch_hidden, batchnorm=True),\n",
    "            ConvGLU(ch_hidden, ch_hidden)\n",
    "        )\n",
    "        self.convglu_last = ConvGLU(ch_hidden, ch_hidden)\n",
    "        self.conv = nn.Conv2d(ch_hidden, 2, kernel_size=(7, 7), padding=(3, 3))\n",
    "\n",
    "    def forward(self, x, mag_replaced, consistent):\n",
    "        x = torch.cat([x, mag_replaced, consistent], dim=1)\n",
    "        x = self.convglu_first(x)\n",
    "        residual = x\n",
    "        x = self.two_convglus(x)\n",
    "        x += residual\n",
    "        x = self.convglu_last(x)\n",
    "        x = self.conv(x)\n",
    "        return x\n",
    "\n",
    "\n",
    "def replace_magnitude(x, mag):\n",
    "    phase = torch.angle(x) # imag, real\n",
    "    return torch.cat([mag * torch.cos(phase), mag * torch.sin(phase)], dim=1)\n",
    "\n",
    "\n",
    "class DeGLI(nn.Module):\n",
    "    def __init__(self, n_fft: int, hop_length: int, depth=3, out_all_block=True):\n",
    "        super().__init__()\n",
    "        self.n_fft = n_fft\n",
    "        self.hop_length = hop_length\n",
    "        self.out_all_block = out_all_block\n",
    "\n",
    "        self.window = nn.Parameter(torch.hann_window(n_fft), requires_grad=False)\n",
    "        self.dnns = nn.ModuleList([DeGLI_DNN() for _ in range(depth)])\n",
    "\n",
    "\n",
    "    def stft(self, x):\n",
    "        return torch.stft(x, n_fft=self.n_fft, hop_length=self.hop_length, window=self.window,return_complex=True)\n",
    "\n",
    "    def istft(self, x):\n",
    "        return torch.istft(x, n_fft=self.n_fft, hop_length=self.hop_length, window=self.window)\n",
    "\n",
    "\n",
    "    def forward(self, x, mag, max_length=None, repeat=1):\n",
    "        if isinstance(max_length, torch.Tensor):\n",
    "            max_length = max_length.item()\n",
    "\n",
    "        out_repeats = []\n",
    "        for ii in range(repeat):\n",
    "            for dnn in self.dnns:\n",
    "                # B, 2, F, T\n",
    "                mag_replaced = replace_magnitude(x, mag)\n",
    "\n",
    "                complex_mag_replaced = torch.complex(mag_replaced[:, :1], mag_replaced[:, 1:])\n",
    "\n",
    "                # print(complex_mag_replaced.shape)\n",
    "\n",
    "                # B, F, T, 2\n",
    "                waves = self.istft(complex_mag_replaced.squeeze(1))\n",
    "                consistent = self.stft(waves)\n",
    "\n",
    "                consistent = consistent.unsqueeze(1)\n",
    "\n",
    "                consistent = torch.cat([consistent.real, consistent.imag], dim=1)\n",
    "                x = torch.cat([x.real, x.imag], dim=1)\n",
    "\n",
    "\n",
    "                # B, 2, F, T\n",
    "                # consistent = consistent.permute(0, 3, 1, 2)\n",
    "                residual = dnn(x, mag_replaced, consistent)\n",
    "                x = consistent - residual\n",
    "\n",
    "                x = torch.complex(x[:, :1], x[:, 1:])\n",
    "                # print(len(out_repeats))\n",
    "\n",
    "            if self.out_all_block:\n",
    "                out_repeats.append(x)\n",
    "\n",
    "        if self.out_all_block:\n",
    "            out_repeats = torch.stack(out_repeats, dim=1)\n",
    "        else:\n",
    "            out_repeats = x.unsqueeze(1)\n",
    "\n",
    "        final_out = replace_magnitude(x, mag)\n",
    "\n",
    "        return out_repeats, final_out, residual\n"
   ]
  },
  {
   "cell_type": "code",
   "execution_count": 54,
   "metadata": {},
   "outputs": [
    {
     "name": "stdout",
     "output_type": "stream",
     "text": [
      "loss item: 15.593008041381836\n"
     ]
    },
    {
     "data": {
      "text/plain": [
       "torch.Size([513, 469])"
      ]
     },
     "execution_count": 54,
     "metadata": {},
     "output_type": "execute_result"
    }
   ],
   "source": [
    "from DGLim.data import *\n",
    "\n",
    "# minimal train loop\n",
    "# hyperparameters\n",
    "\n",
    "lr = 3e-4\n",
    "epochs = 10\n",
    "batch_size = 4\n",
    "num_workers = 4\n",
    "weight_decay = 0.0001\n",
    "\n",
    "model = DeGLI(n_fft=1024,hop_length=512,out_all_block=False)\n",
    "critereon = nn.L1Loss()\n",
    "optimizer = torch.optim.Adam(model.parameters(), lr=lr, weight_decay=weight_decay)\n",
    "\n",
    "train_data = DataLoader(ds, batch_size=batch_size, shuffle=True)\n",
    "\n",
    "# train loop\n",
    "model.train()\n",
    "\n",
    "batch = next(iter(train_data))\n",
    "\n",
    "for epoch in range(epochs):\n",
    "    comp, mag, _ = batch\n",
    "    out_repeats, final_out, residual = model(x=comp, mag=mag)\n",
    "\n",
    "    signal = torch.cat([mag,torch.angle(comp)], dim=1)\n",
    "    loss = critereon(final_out - signal, residual)\n",
    "\n",
    "    optimizer.zero_grad()\n",
    "    loss.backward()\n",
    "    optimizer.step()\n",
    "\n",
    "    print(f\"loss item: {loss}\")\n",
    "    break"
   ]
  },
  {
   "cell_type": "code",
   "execution_count": 56,
   "metadata": {},
   "outputs": [
    {
     "data": {
      "text/plain": [
       "tensor([[False, False, False,  ..., False, False,  True],\n",
       "        [False, False, False,  ..., False, False, False],\n",
       "        [False, False, False,  ..., False, False, False],\n",
       "        ...,\n",
       "        [False, False, False,  ..., False, False, False],\n",
       "        [False, False, False,  ..., False, False, False],\n",
       "        [False,  True, False,  ..., False, False, False]])"
      ]
     },
     "execution_count": 56,
     "metadata": {},
     "output_type": "execute_result"
    }
   ],
   "source": [
    "signal[0][0] == final_out[0][0] "
   ]
  },
  {
   "cell_type": "code",
   "execution_count": null,
   "metadata": {},
   "outputs": [],
   "source": [
    "x = torch.ones((1,2,4,4))\n",
    "x2 = torch.ones((1,2,4,4))\n",
    "\n",
    "x - x2"
   ]
  },
  {
   "cell_type": "code",
   "execution_count": null,
   "metadata": {},
   "outputs": [],
   "source": [
    "db_convert = torchaudio.transforms.AmplitudeToDB()\n",
    "\n",
    "\n",
    "ab = db_convert(torch.abs(comp))\n",
    "ph = torch.angle(comp)\n",
    "\n",
    "\n",
    "print(ab.shape)\n",
    "import librosa\n",
    "\n",
    "librosa.display.specshow(final_out[0][0].detach().numpy(),\n",
    "                        sr=48000,\n",
    "                        x_axis='time',\n",
    "                        y_axis='linear',\n",
    "                        )\n",
    "                        \n",
    "plt.colorbar(format=\"%+2.f\")\n",
    "plt.show()"
   ]
  },
  {
   "cell_type": "code",
   "execution_count": null,
   "metadata": {},
   "outputs": [],
   "source": [
    "visualize_tensor(signal[1][1],convert=False)"
   ]
  },
  {
   "cell_type": "code",
   "execution_count": null,
   "metadata": {},
   "outputs": [],
   "source": []
  }
 ],
 "metadata": {
  "kernelspec": {
   "display_name": ".venv",
   "language": "python",
   "name": "python3"
  },
  "language_info": {
   "codemirror_mode": {
    "name": "ipython",
    "version": 3
   },
   "file_extension": ".py",
   "mimetype": "text/x-python",
   "name": "python",
   "nbconvert_exporter": "python",
   "pygments_lexer": "ipython3",
   "version": "3.10.1"
  },
  "orig_nbformat": 4
 },
 "nbformat": 4,
 "nbformat_minor": 2
}
