{
 "cells": [
  {
   "cell_type": "code",
   "execution_count": 24,
   "metadata": {},
   "outputs": [],
   "source": [
    "from DGLim.data import *\n",
    "from torch.utils.data import DataLoader\n",
    "import torch\n",
    "import torch.nn as nn\n",
    "import torch.optim as optim\n",
    "from DGLim.hyperparameter import hp\n",
    "import warnings\n",
    "\n",
    "\n",
    "%reload_ext autoreload\n",
    "%autoreload 2"
   ]
  },
  {
   "cell_type": "code",
   "execution_count": null,
   "metadata": {},
   "outputs": [],
   "source": [
    "class Train:\n",
    "    def __init__(self, model=DEepGriffinLim(),save_model=False, load_model=False):\n",
    "        self.model = model\n",
    "        self.criterion = nn.L1Loss(reduction='none')\n",
    "        self.optimizer = optim.Adam(self.model.parameters(),lr=hp.learning_rate, weight_decay=hp.weight_decay)\n",
    "        self.save_model = save_model\n",
    "        self.load_model = load_model\n",
    "\n",
    "\n",
    "    \n",
    "    def save_model(self, model,loss,epoch, save_path=hp.save_path):\n",
    "        torch.save({\n",
    "            'epoch': epoch,\n",
    "            'model_state_dict': self.model.state_dict(),\n",
    "            'loss': loss,\n",
    "            }, save_path)\n",
    "\n",
    "    def load_model(self, model, load_path=hp.load_path):\n",
    "        checkpoint = torch.load(load_path)\n",
    "        model.load_state_dict(checkpoint['model_state_dict'])\n",
    "        epoch = checkpoint['epoch']\n",
    "        loss = checkpoint['loss']\n",
    "        return model, epoch, loss\n",
    "\n",
    "\n",
    "    def calc_loss(self, out_blocks: Tensor, y: Tensor, T_ys: Sequence[int]) -> Tensor:\n",
    "        with warnings.catch_warnings():\n",
    "            warnings.simplefilter('ignore')\n",
    "            loss_no_red = self.criterion(out_blocks, y.unsqueeze(1))\n",
    "        loss_blocks = torch.zeros(out_blocks.shape[1], device=y.device)\n",
    "        for T, loss_batch in zip(T_ys, loss_no_red):\n",
    "            loss_blocks += torch.mean(loss_batch[..., :T], dim=(1, 2, 3))\n",
    "\n",
    "        if len(loss_blocks) == 1:\n",
    "            loss = loss_blocks.squeeze()\n",
    "        else:\n",
    "            loss = loss_blocks @ self.loss_weight\n",
    "        return loss\n",
    "        "
   ]
  }
 ],
 "metadata": {
  "kernelspec": {
   "display_name": ".venv",
   "language": "python",
   "name": "python3"
  },
  "language_info": {
   "codemirror_mode": {
    "name": "ipython",
    "version": 3
   },
   "file_extension": ".py",
   "mimetype": "text/x-python",
   "name": "python",
   "nbconvert_exporter": "python",
   "pygments_lexer": "ipython3",
   "version": "3.10.1"
  },
  "orig_nbformat": 4
 },
 "nbformat": 4,
 "nbformat_minor": 2
}
