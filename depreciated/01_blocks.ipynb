{
 "cells": [
  {
   "cell_type": "code",
   "execution_count": 1,
   "metadata": {},
   "outputs": [],
   "source": [
    "# Import necessary packages\n",
    "import torch\n",
    "import torch.nn as nn\n",
    "import torch.optim as optim\n",
    "import torch.nn.functional as F\n",
    "from torch.autograd import Variable\n",
    "from torch.utils.data import Dataset, DataLoader\n",
    "from torchvision import datasets, transforms\n",
    "import matplotlib.pyplot as plt\n",
    "from tqdm import tqdm\n",
    "import numpy as np\n",
    "import matplotlib.pyplot as plt\n",
    "import torchshow as ts\n",
    "import pickle"
   ]
  },
  {
   "cell_type": "code",
   "execution_count": 2,
   "metadata": {},
   "outputs": [
    {
     "name": "stdout",
     "output_type": "stream",
     "text": [
      "Soll: [32,34,513,600]; Ist torch.Size([32, 34, 513, 600])\n"
     ]
    }
   ],
   "source": [
    "# Dense Block\n",
    "class DenseBlock(nn.Module):\n",
    "    '''\n",
    "    Dense Block for Feature Extraction\n",
    "    '''\n",
    "    def __init__(self, in_channels):\n",
    "        super(DenseBlock, self).__init__()\n",
    "        self.conv1 = nn.Conv2d(in_channels, 8, kernel_size=3, padding=1)\n",
    "        self.conv2 = nn.Conv2d(in_channels+8, 8, kernel_size=3, padding=1)\n",
    "        self.conv3 = nn.Conv2d(in_channels+2*8, 8, kernel_size=3, padding=1)\n",
    "        self.conv4 = nn.Conv2d(in_channels+3*8, 8, kernel_size=3, padding=1)\n",
    "\n",
    "    def forward(self, x):\n",
    "            x1 = F.relu(self.conv1(x))\n",
    "            x2 = F.relu(self.conv2(torch.cat([x, x1], dim=1)))\n",
    "            x3 = F.relu(self.conv3(torch.cat([x, x1, x2], dim=1)))\n",
    "            x4 = F.relu(self.conv4(torch.cat([x, x1, x2, x3], dim=1)))\n",
    "            out = torch.cat([x, x1, x2, x3, x4], dim=1)\n",
    "            return out\n",
    "    \n",
    "# Testing\n",
    "\n",
    "tensor = torch.randn(size=(32,2,513,600))\n",
    "block = DenseBlock(in_channels=2)\n",
    "out = block(tensor)\n",
    "\n",
    "# Validation\n",
    "print(f'Soll: [32,34,513,600]; Ist {out.shape}')"
   ]
  },
  {
   "cell_type": "code",
   "execution_count": 3,
   "metadata": {},
   "outputs": [
    {
     "data": {
      "text/plain": [
       "torch.Size([16, 34, 257, 600])"
      ]
     },
     "execution_count": 3,
     "metadata": {},
     "output_type": "execute_result"
    }
   ],
   "source": [
    "class TransitionDown(nn.Module):\n",
    "    '''\n",
    "    Reduces the frequency dimension while keeping the time dimensions\n",
    "    '''\n",
    "    def __init__(self, in_channels, stride):\n",
    "        super(TransitionDown, self).__init__()\n",
    "        self.conv = nn.Conv2d(in_channels, in_channels, kernel_size=1)\n",
    "        self.avg_pool = nn.AvgPool2d(kernel_size=(2, 1), stride=(stride, 1),ceil_mode=True)\n",
    "\n",
    "    def forward(self, x):\n",
    "        x = F.relu(self.conv(x))\n",
    "        out = self.avg_pool(x)\n",
    "        return out\n",
    "    \n",
    "tensor = torch.randn(size=(16,34,513,600))\n",
    "tdown = TransitionDown(in_channels=34,stride=2)\n",
    "out = tdown(tensor)\n",
    "out.shape"
   ]
  },
  {
   "cell_type": "code",
   "execution_count": 7,
   "metadata": {},
   "outputs": [
    {
     "name": "stdout",
     "output_type": "stream",
     "text": [
      "Should be: [8, 16, 63, 600]; Actual: torch.Size([8, 16, 63, 600])\n"
     ]
    }
   ],
   "source": [
    "class TransitionUp(nn.Module):\n",
    "    '''\n",
    "    Expands the frequency dimension while keeping the time dimensions. Always returns 16 channels.\n",
    "    '''\n",
    "    def __init__(self, in_channels, out_channels=16, stride=1):\n",
    "        super(TransitionUp, self).__init__()\n",
    "        self.transconv = nn.ConvTranspose2d(in_channels=in_channels,\n",
    "                                            out_channels=out_channels,\n",
    "                                            kernel_size=(3, 1),\n",
    "                                            stride=(stride, 1),\n",
    "                                            padding=(1, 0),\n",
    "                                            output_padding=0)\n",
    "\n",
    "    def forward(self, x):\n",
    "        out = F.relu(self.transconv(x))\n",
    "        return out\n",
    "    \n",
    "tensor = torch.randn(size=(8, 1, 32, 600))  # Example batch of size 8\n",
    "tup = TransitionUp(in_channels=1, stride=2)\n",
    "out = tup(tensor)\n",
    "\n",
    "print(f'Should be: [8, 16, 63, 600]; Actual: {out.shape}')\n",
    "\n"
   ]
  },
  {
   "cell_type": "code",
   "execution_count": null,
   "metadata": {},
   "outputs": [],
   "source": [
    "class TransitionFinal(nn.Module):\n",
    "    '''\n",
    "    Collapses the channels into 1\n",
    "    '''\n",
    "    def __init__(self, in_channels):\n",
    "        super(TransitionFinal, self).__init__()\n",
    "        self.conv = nn.Conv2d(in_channels, 1, kernel_size=1)\n",
    "\n",
    "    def forward(self, x):\n",
    "        out = self.conv(x)\n",
    "        return out  # out.squeeze(1) would remove the singleton channel dimension\n",
    "\n",
    "# Testing\n",
    "tensor = torch.randn(size=(1, 50, 69, 600))  # Example batch of size 8\n",
    "tfinal = TransitionFinal(in_channels=50)\n",
    "out = tfinal(tensor)\n",
    "\n",
    "print(f'Should be: [1, 1, 69, 600]; Actual: {out.shape}')\n"
   ]
  },
  {
   "cell_type": "code",
   "execution_count": 9,
   "metadata": {},
   "outputs": [
    {
     "name": "stdout",
     "output_type": "stream",
     "text": [
      "torch.Size([8, 1, 32, 600])\n",
      "torch.Size([8, 1, 65, 600])\n"
     ]
    }
   ],
   "source": [
    "class LinearCompressor(nn.Module):\n",
    "    def __init__(self, in_features, out_features):\n",
    "        super(LinearCompressor, self).__init__()\n",
    "        self.linear = nn.Linear(in_features, out_features)\n",
    "        self.leaky_relu = nn.LeakyReLU(negative_slope=0.1)\n",
    "        \n",
    "    def forward(self, x):\n",
    "        # Get the original shape\n",
    "        orig_shape = x.shape\n",
    "        \n",
    "        # Reshape the tensor to be [batch_size, channel * 600, 69]\n",
    "        x = x.view(orig_shape[0], -1, self.linear.in_features)\n",
    "        \n",
    "        # Apply the linear layer\n",
    "        x = self.linear(x)\n",
    "        \n",
    "        # Apply the LeakyReLU activation\n",
    "        x = self.leaky_relu(x)\n",
    "        \n",
    "        # Reshape the tensor back to the original shape but with the second dimension replaced\n",
    "        x = x.view(orig_shape[0], orig_shape[1], self.linear.out_features, -1)\n",
    "        \n",
    "        return x\n",
    "\n",
    "\n",
    "compressor = LinearCompressor(69, 32)\n",
    "x = torch.rand(8,1, 69, 600)  # Example batch of size 8\n",
    "x_compressed = compressor(x)\n",
    "\n",
    "print(x_compressed.shape)  # Should output: torch.Size([8, 32, 600])\n",
    "\n",
    "compressor = LinearCompressor(32, 65)\n",
    "x = torch.rand(8,1, 32, 600)  # Example batch of size 8\n",
    "x_compressed = compressor(x)\n",
    "\n",
    "print(x_compressed.shape)  # Should output: torch.Size([8, 65, 26])\n",
    "\n"
   ]
  },
  {
   "cell_type": "code",
   "execution_count": 17,
   "metadata": {},
   "outputs": [
    {
     "name": "stdout",
     "output_type": "stream",
     "text": [
      "torch.Size([8, 4, 69, 600])\n"
     ]
    },
    {
     "name": "stderr",
     "output_type": "stream",
     "text": [
      "/Users/luca/Desktop/ML/SignalReconstructionML/.venv/lib/python3.10/site-packages/torchshow/visualization.py:378: UserWarning: Original input range is not 0-1 when using grayscale mode. Auto-rescaling it to 0-1 by default.\n",
      "  warnings.warn('Original input range is not 0-1 when using grayscale mode. Auto-rescaling it to 0-1 by default.')\n"
     ]
    },
    {
     "data": {
      "image/png": "[encoded data removed]",
      "text/plain": [
       "<Figure size 640x480 with 4 Axes>"
      ]
     },
     "metadata": {},
     "output_type": "display_data"
    }
   ],
   "source": [
    "# Temporal Block\n",
    "import torch\n",
    "import torch.nn as nn\n",
    "\n",
    "class TemporalBlock(nn.Module):\n",
    "    def __init__(self, in_channels, out_channels):\n",
    "        super(TemporalBlock, self).__init__()\n",
    "\n",
    "        self.conv1 = nn.Conv2d(in_channels, out_channels, kernel_size=(1, 3), padding=(0, 1), dilation=(1, 1))\n",
    "        self.conv2 = nn.Conv2d(in_channels, out_channels, kernel_size=(1, 3), padding=(0, 2), dilation=(1, 2))\n",
    "        self.conv3 = nn.Conv2d(in_channels, out_channels, kernel_size=(1, 3), padding=(0, 4), dilation=(1, 4))\n",
    "        self.conv4 = nn.Conv2d(in_channels, out_channels, kernel_size=(1, 3), padding=(0, 8), dilation=(1, 8))\n",
    "\n",
    "        self.relu = nn.ReLU(inplace=True)\n",
    "\n",
    "    def forward(self, x):\n",
    "        out1 = self.relu(self.conv1(x))\n",
    "        out2 = self.relu(self.conv2(x))\n",
    "        out3 = self.relu(self.conv3(x))\n",
    "        out4 = self.relu(self.conv4(x))\n",
    "\n",
    "        out = torch.cat((out1, out2, out3, out4), dim=1)  # Concatenate along the channel axis\n",
    "\n",
    "        return out\n",
    "    \n",
    "x = torch.rand(8,1, 69, 600) \n",
    "tb = TemporalBlock(1,1)\n",
    "\n",
    "x = tb(x)\n",
    "print(x.shape)\n",
    "\n",
    "ts.show(x[0])\n",
    "\n",
    "\n"
   ]
  },
  {
   "cell_type": "code",
   "execution_count": null,
   "metadata": {},
   "outputs": [],
   "source": []
  }
 ],
 "metadata": {
  "kernelspec": {
   "display_name": ".venv",
   "language": "python",
   "name": "python3"
  },
  "language_info": {
   "codemirror_mode": {
    "name": "ipython",
    "version": 3
   },
   "file_extension": ".py",
   "mimetype": "text/x-python",
   "name": "python",
   "nbconvert_exporter": "python",
   "pygments_lexer": "ipython3",
   "version": "3.10.1"
  },
  "orig_nbformat": 4
 },
 "nbformat": 4,
 "nbformat_minor": 2
}
