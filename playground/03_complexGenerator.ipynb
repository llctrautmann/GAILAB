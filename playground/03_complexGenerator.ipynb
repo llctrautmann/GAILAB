{
 "cells": [
  {
   "cell_type": "code",
   "execution_count": 4,
   "metadata": {},
   "outputs": [],
   "source": [
    "import torch\n",
    "import torchcomplex.nn as nn\n",
    "import torch.optim as optim\n",
    "from torch.utils.tensorboard import SummaryWriter"
   ]
  },
  {
   "cell_type": "code",
   "execution_count": 47,
   "metadata": {},
   "outputs": [],
   "source": [
    "class ConvBlock(nn.Module):\n",
    "    def __init__(self, in_channels=64, out_channels=64,kernel_size=5, stride=1,requires_sum=True,generator=True):\n",
    "        super(ConvBlock, self).__init__()\n",
    "        self.requires_sum = requires_sum\n",
    "        self.block = nn.Sequential(\n",
    "            nn.Conv2d(in_channels=in_channels, out_channels=out_channels, kernel_size=kernel_size,stride=stride, padding= 2 if generator else 2),\n",
    "            nn.zReLU(),\n",
    "            nn.Conv2d(out_channels, out_channels, kernel_size=kernel_size,stride=stride, padding= 2 ))\n",
    "        \n",
    "    def forward(self, x):\n",
    "        if self.requires_sum is True:\n",
    "            out = self.block(x)\n",
    "            return x + out\n",
    "        else:\n",
    "            out = self.block(x)\n",
    "            return out\n",
    "        \n",
    "class Generator(nn.Module):\n",
    "    def __init__(self,in_channel=2, out_channel=64, blocks=4):\n",
    "        super(Generator, self).__init__()\n",
    "        self.initial = nn.Sequential(\n",
    "            nn.Conv2d(in_channels=in_channel, out_channels=out_channel,kernel_size=11,stride=1,padding=5),\n",
    "            nn.zReLU())\n",
    "        \n",
    "\n",
    "        self.blocks = nn.Sequential(*[ConvBlock() for _ in range(blocks)])\n",
    "        self.conv = nn.Conv2d(in_channels=out_channel, out_channels=out_channel,kernel_size=5,stride=1,padding=2)\n",
    "\n",
    "        self.terminal = nn.Sequential(\n",
    "            ConvBlock(in_channels=out_channel, out_channels=out_channel,requires_sum=False),\n",
    "            ConvBlock(in_channels=out_channel, out_channels=out_channel,requires_sum=False),\n",
    "            nn.Conv2d(in_channels=out_channel, out_channels=2,kernel_size=11,stride=1,padding=5)\n",
    "        )\n",
    "\n",
    "    def forward(self, z):\n",
    "        z = self.initial(z)\n",
    "        print('clear 01')\n",
    "        out = self.blocks(z)\n",
    "        print('clear 02')\n",
    "        out = self.conv(out)\n",
    "        out = out + z\n",
    "        return self.terminal(out)"
   ]
  },
  {
   "cell_type": "code",
   "execution_count": 64,
   "metadata": {},
   "outputs": [
    {
     "name": "stdout",
     "output_type": "stream",
     "text": [
      "clear 01\n",
      "clear 02\n",
      "clear 01\n",
      "clear 02\n",
      "\n"
     ]
    },
    {
     "data": {
      "text/plain": [
       "tensor([[-4.1264e-03, -2.0781e-03,  9.3113e-05],\n",
       "        [ 3.4261e-03,  1.8364e-03,  1.2095e-03]], grad_fn=<DivBackward0>)"
      ]
     },
     "execution_count": 64,
     "metadata": {},
     "output_type": "execute_result"
    }
   ],
   "source": [
    "x = torch.randn(4,2,4,4,dtype=torch.complex64).to('cpu')\n",
    "gen = Generator(2, 64, 1)\n",
    "gen.to('cpu')\n",
    "gen(x).shape\n",
    "\n",
    "t = gen(x)\n",
    "\n",
    "\n",
    "\n",
    "torch.istft(t[0],n_fft=4)"
   ]
  },
  {
   "cell_type": "code",
   "execution_count": 33,
   "metadata": {},
   "outputs": [],
   "source": [
    "block = nn.Sequential(\n",
    "        nn.Conv2d(in_channels=2, out_channels=8, kernel_size=5,stride=1, padding=2),\n",
    "        nn.zReLU(),\n",
    "        nn.Conv2d(in_channels=8, out_channels=8, kernel_size=5,stride=1, padding=2))"
   ]
  },
  {
   "cell_type": "code",
   "execution_count": 34,
   "metadata": {},
   "outputs": [],
   "source": [
    "x = torch.randn(1,2,8,8,dtype=torch.complex64)"
   ]
  },
  {
   "cell_type": "code",
   "execution_count": 35,
   "metadata": {},
   "outputs": [
    {
     "data": {
      "text/plain": [
       "torch.Size([1, 8, 8, 8])"
      ]
     },
     "execution_count": 35,
     "metadata": {},
     "output_type": "execute_result"
    }
   ],
   "source": [
    "block(x).shape"
   ]
  },
  {
   "cell_type": "code",
   "execution_count": null,
   "metadata": {},
   "outputs": [],
   "source": []
  }
 ],
 "metadata": {
  "kernelspec": {
   "display_name": ".venv",
   "language": "python",
   "name": "python3"
  },
  "language_info": {
   "codemirror_mode": {
    "name": "ipython",
    "version": 3
   },
   "file_extension": ".py",
   "mimetype": "text/x-python",
   "name": "python",
   "nbconvert_exporter": "python",
   "pygments_lexer": "ipython3",
   "version": "3.10.1"
  },
  "orig_nbformat": 4
 },
 "nbformat": 4,
 "nbformat_minor": 2
}
