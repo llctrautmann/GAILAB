{
 "cells": [
  {
   "cell_type": "code",
   "execution_count": 3,
   "metadata": {},
   "outputs": [],
   "source": [
    "import torch\n",
    "import matplotlib.pyplot as plt\n",
    "import IPython.display as ipd\n",
    "import os\n",
    "from torch.utils.data import DataLoader, Dataset\n",
    "import pandas as pd\n",
    "import torchaudio\n",
    "import torchshow as ts\n",
    "import random"
   ]
  },
  {
   "cell_type": "code",
   "execution_count": null,
   "metadata": {},
   "outputs": [],
   "source": [
    "# elif self.mode == 'testing':\n",
    "#     audio_sample_path = os.path.join(self.root_dir,os.listdir(self.root_dir)[index])\n",
    "#     label = self.annotation_file.iloc[index]['fileName']\n",
    "#     signal, sr = self.pad_trunc(torchaudio.load(audio_sample_path), max_ms=self.max_ms)\n",
    "\n",
    "#     stft = torch.stft(signal, n_fft=56, hop_length=16, normalized=True, return_complex=True)\n",
    "\n",
    "#     mag = self.AmplitudeToDB(torch.abs(stft))\n",
    "#     phase = torch.angle(stft)\n",
    "\n",
    "#     return torch.cat([mag,phase],dim=0), label"
   ]
  },
  {
   "cell_type": "code",
   "execution_count": 8,
   "metadata": {},
   "outputs": [
    {
     "name": "stdout",
     "output_type": "stream",
     "text": [
      "../data/AudioMNIST/2_george_44.wav\n"
     ]
    }
   ],
   "source": [
    "index = 0\n",
    "\n",
    "root_dir = '../data/AudioMNIST/' \n",
    "file = os.path.join(root_dir, os.listdir(root_dir)[index])\n",
    "\n",
    "print(file)"
   ]
  },
  {
   "cell_type": "code",
   "execution_count": 36,
   "metadata": {},
   "outputs": [
    {
     "name": "stdout",
     "output_type": "stream",
     "text": [
      "torch.Size([1, 2556])\n"
     ]
    },
    {
     "data": {
      "text/plain": [
       "torch.Size([1, 2556])"
      ]
     },
     "execution_count": 36,
     "metadata": {},
     "output_type": "execute_result"
    }
   ],
   "source": [
    "# STFT\n",
    "\n",
    "signal = torchaudio.load(file)[0]\n",
    "\n",
    "stft = torch.stft(torchaudio.load(file)[0],n_fft=128,return_complex=True)\n",
    "\n",
    "istft = torch.istft(stft,n_fft=128,length=2556)\n",
    "\n",
    "print(signal.shape)\n",
    "istft.shape"
   ]
  },
  {
   "cell_type": "code",
   "execution_count": 37,
   "metadata": {},
   "outputs": [],
   "source": [
    "assert signal.shape == istft.shape"
   ]
  },
  {
   "cell_type": "code",
   "execution_count": null,
   "metadata": {},
   "outputs": [],
   "source": []
  }
 ],
 "metadata": {
  "kernelspec": {
   "display_name": ".venv",
   "language": "python",
   "name": "python3"
  },
  "language_info": {
   "codemirror_mode": {
    "name": "ipython",
    "version": 3
   },
   "file_extension": ".py",
   "mimetype": "text/x-python",
   "name": "python",
   "nbconvert_exporter": "python",
   "pygments_lexer": "ipython3",
   "version": "3.10.1"
  },
  "orig_nbformat": 4
 },
 "nbformat": 4,
 "nbformat_minor": 2
}
