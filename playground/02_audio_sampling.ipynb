{
 "cells": [
  {
   "cell_type": "code",
   "execution_count": 1,
   "metadata": {},
   "outputs": [],
   "source": [
    "from src.data_loader import *\n",
    "from torch.utils.data import DataLoader\n",
    "import os\n",
    "import numpy as np\n",
    "import torch\n",
    "import torch.nn as nn\n",
    "import torch.nn.functional as F\n",
    "\n",
    "# Real Data Testing\n",
    "# Data Loader\n",
    "\n",
    "dataset = 0\n",
    "\n",
    "if dataset:\n",
    "\n",
    "    path = '../data/AudioMNIST_Indicies/dummy_labels.csv'\n",
    "    root_dir = '../data/AudioMNIST/'\n",
    "\n",
    "else:\n",
    "    path = '../data/AvianID_AcousticIndices/UK_AI.csv'\n",
    "    root_dir='../data/UK_BIRD/'\n",
    "\n",
    "# \n",
    "\n",
    "ds = AvianNatureSounds(annotation_file_path=path,\n",
    "                       root_dir=root_dir,\n",
    "                       key='habitat',\n",
    "                       mode='stft',\n",
    "                       length=5,\n",
    "                       sampling_rate=44100,\n",
    "                       n_fft=1024,\n",
    "                       hop_length=512,\n",
    "                       mel_spectrogram=None,\n",
    "                       verbose=False,\n",
    "                       fixed_limit=True)\n",
    "\n",
    "\n",
    "\n",
    "train_loader = DataLoader(dataset=ds, batch_size=4, shuffle=True)\n",
    "\n",
    "\n",
    "\n",
    "batch = next(iter(train_loader))"
   ]
  },
  {
   "cell_type": "code",
   "execution_count": 2,
   "metadata": {},
   "outputs": [],
   "source": [
    "from utils.plot_spectrograms import plot_spectrograms\n",
    "\n",
    "# plot_spectrograms(batch=batch[0],magnitude=False) # magnitude=True , phase = False"
   ]
  },
  {
   "cell_type": "code",
   "execution_count": 3,
   "metadata": {},
   "outputs": [],
   "source": [
    "def convert_to_complex(mag, angle):\n",
    "    # https://dsp.stackexchange.com/a/72172 \n",
    "    return mag*(np.cos(angle)+1j* np.sin(angle))"
   ]
  },
  {
   "cell_type": "code",
   "execution_count": 4,
   "metadata": {},
   "outputs": [
    {
     "name": "stdout",
     "output_type": "stream",
     "text": [
      "torch.Size([1, 1, 261632])\n"
     ]
    }
   ],
   "source": [
    "# print(batch[0][0].shape)\n",
    "complex_spectrogram = convert_to_complex(batch[0][0][0], batch[0][0][1])\n",
    "\n",
    "# print(complex_spectrogram.shape)\n",
    "new_row = torch.zeros(1, 512)\n",
    "\n",
    "# print(new_row.shape)\n",
    "complex_spectrogram = torch.cat((complex_spectrogram, new_row), dim=0)\n",
    "\n",
    "# print(complex_spectrogram.shape)\n",
    "signal = torch.istft(complex_spectrogram,n_fft=1024,hop_length=512)\n",
    "signal.unsqueeze_(0).unsqueeze_(0)\n",
    "print(signal.shape)"
   ]
  },
  {
   "cell_type": "code",
   "execution_count": 14,
   "metadata": {},
   "outputs": [
    {
     "name": "stdout",
     "output_type": "stream",
     "text": [
      "torch.Size([4, 1, 261632])\n",
      "torch.Size([4, 32, 65385])\n",
      "#### LOCK HERE ####\n",
      "torch.Size([4, 32, 128, 128])\n",
      "###################\n"
     ]
    },
    {
     "ename": "RuntimeError",
     "evalue": "mat1 and mat2 shapes cannot be multiplied (4x524288 and 16384x65385)",
     "output_type": "error",
     "traceback": [
      "\u001b[0;31m---------------------------------------------------------------------------\u001b[0m",
      "\u001b[0;31mRuntimeError\u001b[0m                              Traceback (most recent call last)",
      "Cell \u001b[0;32mIn[14], line 38\u001b[0m\n\u001b[1;32m     35\u001b[0m \u001b[39mprint\u001b[39m(mag_out\u001b[39m.\u001b[39mshape)\n\u001b[1;32m     36\u001b[0m \u001b[39mprint\u001b[39m(\u001b[39m'\u001b[39m\u001b[39m###################\u001b[39m\u001b[39m'\u001b[39m)\n\u001b[0;32m---> 38\u001b[0m mag_lin_out \u001b[39m=\u001b[39m lin_lay(mag_out\u001b[39m.\u001b[39;49mview(\u001b[39m4\u001b[39;49m, \u001b[39m-\u001b[39;49m\u001b[39m1\u001b[39;49m))\n\u001b[1;32m     40\u001b[0m torch\u001b[39m.\u001b[39mcat([mag_lin_out\u001b[39m.\u001b[39munsqueeze_(\u001b[39m1\u001b[39m), phase_out], dim\u001b[39m=\u001b[39m\u001b[39m1\u001b[39m)\u001b[39m.\u001b[39mshape\n",
      "File \u001b[0;32m~/Desktop/ML/SignalReconstructionML/.venv/lib/python3.10/site-packages/torch/nn/modules/module.py:1501\u001b[0m, in \u001b[0;36mModule._call_impl\u001b[0;34m(self, *args, **kwargs)\u001b[0m\n\u001b[1;32m   1496\u001b[0m \u001b[39m# If we don't have any hooks, we want to skip the rest of the logic in\u001b[39;00m\n\u001b[1;32m   1497\u001b[0m \u001b[39m# this function, and just call forward.\u001b[39;00m\n\u001b[1;32m   1498\u001b[0m \u001b[39mif\u001b[39;00m \u001b[39mnot\u001b[39;00m (\u001b[39mself\u001b[39m\u001b[39m.\u001b[39m_backward_hooks \u001b[39mor\u001b[39;00m \u001b[39mself\u001b[39m\u001b[39m.\u001b[39m_backward_pre_hooks \u001b[39mor\u001b[39;00m \u001b[39mself\u001b[39m\u001b[39m.\u001b[39m_forward_hooks \u001b[39mor\u001b[39;00m \u001b[39mself\u001b[39m\u001b[39m.\u001b[39m_forward_pre_hooks\n\u001b[1;32m   1499\u001b[0m         \u001b[39mor\u001b[39;00m _global_backward_pre_hooks \u001b[39mor\u001b[39;00m _global_backward_hooks\n\u001b[1;32m   1500\u001b[0m         \u001b[39mor\u001b[39;00m _global_forward_hooks \u001b[39mor\u001b[39;00m _global_forward_pre_hooks):\n\u001b[0;32m-> 1501\u001b[0m     \u001b[39mreturn\u001b[39;00m forward_call(\u001b[39m*\u001b[39;49margs, \u001b[39m*\u001b[39;49m\u001b[39m*\u001b[39;49mkwargs)\n\u001b[1;32m   1502\u001b[0m \u001b[39m# Do not call functions when jit is used\u001b[39;00m\n\u001b[1;32m   1503\u001b[0m full_backward_hooks, non_full_backward_hooks \u001b[39m=\u001b[39m [], []\n",
      "File \u001b[0;32m~/Desktop/ML/SignalReconstructionML/.venv/lib/python3.10/site-packages/torch/nn/modules/linear.py:114\u001b[0m, in \u001b[0;36mLinear.forward\u001b[0;34m(self, input)\u001b[0m\n\u001b[1;32m    113\u001b[0m \u001b[39mdef\u001b[39;00m \u001b[39mforward\u001b[39m(\u001b[39mself\u001b[39m, \u001b[39minput\u001b[39m: Tensor) \u001b[39m-\u001b[39m\u001b[39m>\u001b[39m Tensor:\n\u001b[0;32m--> 114\u001b[0m     \u001b[39mreturn\u001b[39;00m F\u001b[39m.\u001b[39;49mlinear(\u001b[39minput\u001b[39;49m, \u001b[39mself\u001b[39;49m\u001b[39m.\u001b[39;49mweight, \u001b[39mself\u001b[39;49m\u001b[39m.\u001b[39;49mbias)\n",
      "\u001b[0;31mRuntimeError\u001b[0m: mat1 and mat2 shapes cannot be multiplied (4x524288 and 16384x65385)"
     ]
    }
   ],
   "source": [
    "signals = []\n",
    "\n",
    "for i in range(4):\n",
    "    complex_spectrogram = convert_to_complex(batch[0][i][0], batch[0][i][1])\n",
    "    new_row = torch.zeros(1, 512)\n",
    "    complex_spectrogram = torch.cat((complex_spectrogram, new_row), dim=0)\n",
    "    signal = torch.istft(complex_spectrogram,n_fft=1024,hop_length=512).unsqueeze_(0).unsqueeze_(0)\n",
    "    signals.append(signal)\n",
    "\n",
    "signals = torch.cat(signals, dim=0)\n",
    "\n",
    "print(signals.shape)\n",
    "\n",
    "\n",
    "lin_lay = nn.Linear(128*128, 65385)\n",
    "conv = nn.Conv2d(1, 32, kernel_size=5, stride=2,padding=2)\n",
    "conv2 = nn.Conv2d(32, 32, kernel_size=5, stride=2,padding=2)\n",
    "\n",
    "\n",
    "conv1d = nn.Conv1d(1, 32, kernel_size=32, stride=2)\n",
    "conv1d32 = nn.Conv1d(32, 32, kernel_size=32, stride=2)\n",
    "\n",
    "\n",
    "# print(lin_lay(signals.view(4, -1)).shape)\n",
    "\n",
    "print(conv1d32(conv1d(signals)).shape)\n",
    "phase_out = conv1d32(conv1d(signals))\n",
    "\n",
    "batch[1].shape\n",
    "\n",
    "# print(conv(conv(batch[1])).shape)\n",
    "mag_out = conv2(conv(batch[1]))\n",
    "\n",
    "print('#### LOCK HERE ####')\n",
    "print(mag_out.shape)\n",
    "print('###################')\n",
    "\n",
    "mag_lin_out = lin_lay(mag_out.view(4, -1))\n",
    "\n",
    "torch.cat([mag_lin_out.unsqueeze_(1), phase_out], dim=1).shape"
   ]
  },
  {
   "cell_type": "code",
   "execution_count": 6,
   "metadata": {},
   "outputs": [
    {
     "data": {
      "text/plain": [
       "torch.Size([4, 33, 65385])"
      ]
     },
     "execution_count": 6,
     "metadata": {},
     "output_type": "execute_result"
    }
   ],
   "source": [
    "batch[1].shape\n",
    "\n",
    "# print(conv(conv(batch[1])).shape)\n",
    "mag_out = conv(conv(batch[1]))\n",
    "\n",
    "mag_lin_out = lin_lay(mag_out.view(4, -1))\n",
    "\n",
    "torch.cat([mag_lin_out.unsqueeze_(1), phase_out], dim=1).shape\n",
    "\n",
    "\n",
    "\n",
    "\n",
    "\n"
   ]
  },
  {
   "cell_type": "code",
   "execution_count": 15,
   "metadata": {},
   "outputs": [
    {
     "data": {
      "text/plain": [
       "524288"
      ]
     },
     "execution_count": 15,
     "metadata": {},
     "output_type": "execute_result"
    }
   ],
   "source": [
    "128 * 128 * 32"
   ]
  },
  {
   "cell_type": "code",
   "execution_count": 17,
   "metadata": {},
   "outputs": [
    {
     "data": {
      "text/plain": [
       "torch.Size([2, 8192])"
      ]
     },
     "execution_count": 17,
     "metadata": {},
     "output_type": "execute_result"
    }
   ],
   "source": [
    "torch.randn(2,32,16,16).view(2, -1).shape"
   ]
  },
  {
   "cell_type": "code",
   "execution_count": 21,
   "metadata": {},
   "outputs": [
    {
     "data": {
      "text/plain": [
       "torch.Size([2, 8192])"
      ]
     },
     "execution_count": 21,
     "metadata": {},
     "output_type": "execute_result"
    }
   ],
   "source": [
    "t = torch.randn(2,32,16,16)\n",
    "\n",
    "t.view(2,-1).shape"
   ]
  },
  {
   "cell_type": "code",
   "execution_count": null,
   "metadata": {},
   "outputs": [],
   "source": []
  }
 ],
 "metadata": {
  "kernelspec": {
   "display_name": ".venv",
   "language": "python",
   "name": "python3"
  },
  "language_info": {
   "codemirror_mode": {
    "name": "ipython",
    "version": 3
   },
   "file_extension": ".py",
   "mimetype": "text/x-python",
   "name": "python",
   "nbconvert_exporter": "python",
   "pygments_lexer": "ipython3",
   "version": "3.10.1"
  },
  "orig_nbformat": 4
 },
 "nbformat": 4,
 "nbformat_minor": 2
}
