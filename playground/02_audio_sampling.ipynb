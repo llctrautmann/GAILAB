{
 "cells": [
  {
   "cell_type": "code",
   "execution_count": 6,
   "metadata": {},
   "outputs": [
    {
     "name": "stdout",
     "output_type": "stream",
     "text": [
      "2040\n",
      "2040\n",
      "2040\n",
      "2040\n"
     ]
    },
    {
     "data": {
      "text/plain": [
       "torch.Size([4, 2, 128, 128])"
      ]
     },
     "execution_count": 6,
     "metadata": {},
     "output_type": "execute_result"
    }
   ],
   "source": [
    "from src.data_loader import *\n",
    "import os\n",
    "\n",
    "# autoreload\n",
    "%reload_ext autoreload\n",
    "%autoreload \n",
    "\n",
    "dataset = 0\n",
    "\n",
    "if dataset:\n",
    "\n",
    "    path = '../data/AudioMNIST_Indicies/dummy_labels.csv'\n",
    "    root_dir = '../data/AudioMNIST/'\n",
    "\n",
    "else:\n",
    "    path = '../data/AvianID_AcousticIndices/UK_AI.csv'\n",
    "    root_dir='../data/UK_BIRD/'\n",
    "\n",
    "# \n",
    "\n",
    "ds = AvianNatureSounds(annotation_file=path,\n",
    "                       root_dir=root_dir,\n",
    "                       mel_spectrogram=None,\n",
    "                       mode='stft',\n",
    "                       key='habitat',\n",
    "                       n_fft=256,\n",
    "                       hop_length=16,\n",
    "                       max_ms=42.5)\n",
    "train_loader = DataLoader(dataset=ds, batch_size=4, shuffle=True)\n",
    "tensor, label = next(iter(train_loader)) \n",
    "\n",
    "tensor = tensor.narrow(2, 0, 128).clone()\n",
    "\n",
    "tensor.shape"
   ]
  },
  {
   "cell_type": "code",
   "execution_count": 2,
   "metadata": {},
   "outputs": [
    {
     "data": {
      "text/plain": [
       "2880000"
      ]
     },
     "execution_count": 2,
     "metadata": {},
     "output_type": "execute_result"
    }
   ],
   "source": [
    "2880000"
   ]
  },
  {
   "cell_type": "code",
   "execution_count": 3,
   "metadata": {},
   "outputs": [
    {
     "data": {
      "text/plain": [
       "129"
      ]
     },
     "execution_count": 3,
     "metadata": {},
     "output_type": "execute_result"
    }
   ],
   "source": [
    "int(48000 // 1000 * 2.7)"
   ]
  },
  {
   "cell_type": "code",
   "execution_count": 4,
   "metadata": {},
   "outputs": [
    {
     "data": {
      "text/plain": [
       "torch.Size([4, 2, 128, 128])"
      ]
     },
     "execution_count": 4,
     "metadata": {},
     "output_type": "execute_result"
    }
   ],
   "source": [
    "# Assuming you have a tensor named 'input_tensor' with the shape [4, 2, 129, 128]\n",
    "input_tensor = torch.randn(4, 2, 129, 128)\n",
    "\n",
    "\n",
    "input_tensor.narrow(2, 0, 128).shape"
   ]
  },
  {
   "cell_type": "code",
   "execution_count": null,
   "metadata": {},
   "outputs": [],
   "source": []
  }
 ],
 "metadata": {
  "kernelspec": {
   "display_name": ".venv",
   "language": "python",
   "name": "python3"
  },
  "language_info": {
   "codemirror_mode": {
    "name": "ipython",
    "version": 3
   },
   "file_extension": ".py",
   "mimetype": "text/x-python",
   "name": "python",
   "nbconvert_exporter": "python",
   "pygments_lexer": "ipython3",
   "version": "3.10.1"
  },
  "orig_nbformat": 4
 },
 "nbformat": 4,
 "nbformat_minor": 2
}
