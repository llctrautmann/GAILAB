{
 "cells": [
  {
   "cell_type": "code",
   "execution_count": 1,
   "metadata": {},
   "outputs": [
    {
     "data": {
      "text/plain": [
       "torch.Size([2, 513, 93751])"
      ]
     },
     "execution_count": 1,
     "metadata": {},
     "output_type": "execute_result"
    }
   ],
   "source": [
    "from src.data_loader import *\n",
    "import os\n",
    "\n",
    "dataset = 0\n",
    "\n",
    "if dataset:\n",
    "\n",
    "    path = '../data/AudioMNIST_Indicies/dummy_labels.csv'\n",
    "    root_dir = '../data/AudioMNIST/'\n",
    "\n",
    "else:\n",
    "    path = '../data/AvianID_AcousticIndices/UK_AI.csv'\n",
    "    root_dir='../data/UK_BIRD/'\n",
    "\n",
    "# \n",
    "\n",
    "ds = AvianNatureSounds(annotation_file=path,root_dir=root_dir,mel_spectrogram=None,mode='stft',key='habitat')\n",
    "train_loader = DataLoader(dataset=ds, batch_size=16, shuffle=True)\n",
    "batch, label = next(iter(train_loader)) \n",
    "\n",
    "batch.shape\n",
    "\n",
    "batch[0].shape"
   ]
  },
  {
   "cell_type": "code",
   "execution_count": 2,
   "metadata": {},
   "outputs": [
    {
     "data": {
      "text/plain": [
       "2880000"
      ]
     },
     "execution_count": 2,
     "metadata": {},
     "output_type": "execute_result"
    }
   ],
   "source": [
    "2880000"
   ]
  },
  {
   "cell_type": "code",
   "execution_count": null,
   "metadata": {},
   "outputs": [],
   "source": []
  }
 ],
 "metadata": {
  "kernelspec": {
   "display_name": ".venv",
   "language": "python",
   "name": "python3"
  },
  "language_info": {
   "codemirror_mode": {
    "name": "ipython",
    "version": 3
   },
   "file_extension": ".py",
   "mimetype": "text/x-python",
   "name": "python",
   "nbconvert_exporter": "python",
   "pygments_lexer": "ipython3",
   "version": "3.10.1"
  },
  "orig_nbformat": 4
 },
 "nbformat": 4,
 "nbformat_minor": 2
}
