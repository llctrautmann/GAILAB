{
 "cells": [
  {
   "cell_type": "code",
   "execution_count": 2,
   "metadata": {},
   "outputs": [],
   "source": [
    "def fib(n,memo={}):\n",
    "    if n in memo:\n",
    "        return memo[n]\n",
    "    elif n <= 2:\n",
    "        return 1\n",
    "\n",
    "    memo[n] = fib(n-1,memo) + fib(n-2,memo)\n",
    "    return memo[n]"
   ]
  },
  {
   "cell_type": "code",
   "execution_count": 1,
   "metadata": {},
   "outputs": [
    {
     "data": {
      "text/plain": [
       "2880067194370824704"
      ]
     },
     "execution_count": 1,
     "metadata": {},
     "output_type": "execute_result"
    }
   ],
   "source": [
    "import numpy as np\n",
    "import math\n",
    "\n",
    "def binet(n):\n",
    "    \"\"\"\n",
    "    The central function implementing Binet's Formula\n",
    "    \"\"\"\n",
    "\n",
    "    # pre-calculate sqrt(5) as we use it 3 times\n",
    "    sqrt5 = math.sqrt(5)\n",
    "\n",
    "    F_n = int((( (1 + sqrt5) ** n - (1 - sqrt5) ** n ) / ( 2 ** n * sqrt5 )))\n",
    "\n",
    "    return F_n\n",
    "\n",
    "binet(90)"
   ]
  },
  {
   "cell_type": "code",
   "execution_count": 1,
   "metadata": {},
   "outputs": [
    {
     "data": {
      "text/plain": [
       "280571172992510140037611932413038677189525"
      ]
     },
     "execution_count": 1,
     "metadata": {},
     "output_type": "execute_result"
    }
   ],
   "source": [
    "def fibonacci(element):\n",
    "    sequence = [0, 1]\n",
    "    for i in range(2, element + 1):\n",
    "        sequence.append(sequence[i - 2] + sequence[i - 1])\n",
    "    return sequence[element]\n",
    "\n",
    "fibonacci(200)"
   ]
  },
  {
   "cell_type": "code",
   "execution_count": 10,
   "metadata": {},
   "outputs": [],
   "source": [
    "def fibonacci(n):\n",
    "  def fib_inner(n):\n",
    "    '''Returns F[n] and F[n+1]'''\n",
    "    if n == 0:\n",
    "      return 0, 1\n",
    "    u, v = fib_inner(n >> 1)\n",
    "    q = (n & 2) - 1\n",
    "    u *= u\n",
    "    v *= v\n",
    "    if (n & 1):\n",
    "      return u + v, 3*v - 2*(u - q)\n",
    "    return 2*(v + q) - 3*u, u + v\n",
    "\n",
    "  u, v = fib_inner(n >> 1)\n",
    "  # L[m]\n",
    "  l = 2*v - u\n",
    "  if (n & 1):\n",
    "    q = (n & 2) - 1\n",
    "    return v * l + q\n",
    "  return u * l"
   ]
  },
  {
   "cell_type": "code",
   "execution_count": 35,
   "metadata": {},
   "outputs": [
    {
     "data": {
      "text/plain": [
       "54877108839480000051413673948383714443800519309123592724494953427039811201064341234954387521525390615504949092187441218246679104731442473022013980160407007017175697317900483275246652938800"
      ]
     },
     "execution_count": 35,
     "metadata": {},
     "output_type": "execute_result"
    }
   ],
   "source": [
    "fibonacci(900)"
   ]
  },
  {
   "cell_type": "code",
   "execution_count": 13,
   "metadata": {},
   "outputs": [],
   "source": [
    "from numpy import matrix\n",
    "\n",
    "def fib(n):\n",
    "    return (matrix(\n",
    "        '0 1; 1 1' if n >= 0 else '-1 1; 1 0', object\n",
    "        ) ** abs(n))[0, 1]"
   ]
  },
  {
   "cell_type": "code",
   "execution_count": 15,
   "metadata": {},
   "outputs": [
    {
     "data": {
      "text/plain": [
       "280571172992510140037611932413038677189525"
      ]
     },
     "execution_count": 15,
     "metadata": {},
     "output_type": "execute_result"
    }
   ],
   "source": [
    "fib(200)"
   ]
  },
  {
   "cell_type": "code",
   "execution_count": 19,
   "metadata": {},
   "outputs": [],
   "source": [
    "def digital_root(n):\n",
    "    ls = sum([int(a) for a in str(n)])  \n",
    "        \n",
    "    if ls < 10:\n",
    "        return(ls)\n",
    "    else:\n",
    "        return(digital_root(ls)) "
   ]
  },
  {
   "cell_type": "code",
   "execution_count": 33,
   "metadata": {},
   "outputs": [
    {
     "data": {
      "text/plain": [
       "2"
      ]
     },
     "execution_count": 33,
     "metadata": {},
     "output_type": "execute_result"
    }
   ],
   "source": [
    "digital_root()"
   ]
  },
  {
   "cell_type": "code",
   "execution_count": null,
   "metadata": {},
   "outputs": [],
   "source": []
  }
 ],
 "metadata": {
  "kernelspec": {
   "display_name": ".venv",
   "language": "python",
   "name": "python3"
  },
  "language_info": {
   "codemirror_mode": {
    "name": "ipython",
    "version": 3
   },
   "file_extension": ".py",
   "mimetype": "text/x-python",
   "name": "python",
   "nbconvert_exporter": "python",
   "pygments_lexer": "ipython3",
   "version": "3.10.1"
  },
  "orig_nbformat": 4
 },
 "nbformat": 4,
 "nbformat_minor": 2
}
