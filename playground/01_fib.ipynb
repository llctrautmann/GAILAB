{
 "cells": [
  {
   "cell_type": "code",
   "execution_count": 1,
   "metadata": {},
   "outputs": [],
   "source": [
    "def fib(n,memo={}):\n",
    "    if n in memo:\n",
    "        return memo[n]\n",
    "    elif n <= 2:\n",
    "        return 1\n",
    "\n",
    "    memo[n] = fib(n-1,memo) + fib(n-2,memo)\n",
    "    return memo[n]"
   ]
  },
  {
   "cell_type": "code",
   "execution_count": 2,
   "metadata": {},
   "outputs": [
    {
     "data": {
      "text/plain": [
       "2880067194370824704"
      ]
     },
     "execution_count": 2,
     "metadata": {},
     "output_type": "execute_result"
    }
   ],
   "source": [
    "import numpy as np\n",
    "import math\n",
    "\n",
    "def binet(n):\n",
    "    \"\"\"\n",
    "    The central function implementing Binet's Formula\n",
    "    \"\"\"\n",
    "\n",
    "    # pre-calculate sqrt(5) as we use it 3 times\n",
    "    sqrt5 = math.sqrt(5)\n",
    "\n",
    "    F_n = int((( (1 + sqrt5) ** n - (1 - sqrt5) ** n ) / ( 2 ** n * sqrt5 )))\n",
    "\n",
    "    return F_n\n",
    "\n",
    "binet(90)"
   ]
  },
  {
   "cell_type": "code",
   "execution_count": 3,
   "metadata": {},
   "outputs": [
    {
     "data": {
      "text/plain": [
       "280571172992510140037611932413038677189525"
      ]
     },
     "execution_count": 3,
     "metadata": {},
     "output_type": "execute_result"
    }
   ],
   "source": [
    "def fibonacci(element):\n",
    "    sequence = [0, 1]\n",
    "    for i in range(2, element + 1):\n",
    "        sequence.append(sequence[i - 2] + sequence[i - 1])\n",
    "    return sequence[element]\n",
    "\n",
    "fibonacci(200)"
   ]
  },
  {
   "cell_type": "code",
   "execution_count": 4,
   "metadata": {},
   "outputs": [],
   "source": [
    "def fibonacci(n):\n",
    "  def fib_inner(n):\n",
    "    '''Returns F[n] and F[n+1]'''\n",
    "    if n == 0:\n",
    "      return 0, 1\n",
    "    u, v = fib_inner(n >> 1)\n",
    "    q = (n & 2) - 1\n",
    "    u *= u\n",
    "    v *= v\n",
    "    if (n & 1):\n",
    "      return u + v, 3*v - 2*(u - q)\n",
    "    return 2*(v + q) - 3*u, u + v\n",
    "\n",
    "  u, v = fib_inner(n >> 1)\n",
    "  # L[m]\n",
    "  l = 2*v - u\n",
    "  if (n & 1):\n",
    "    q = (n & 2) - 1\n",
    "    return v * l + q\n",
    "  return u * l"
   ]
  },
  {
   "cell_type": "code",
   "execution_count": 5,
   "metadata": {},
   "outputs": [
    {
     "data": {
      "text/plain": [
       "54877108839480000051413673948383714443800519309123592724494953427039811201064341234954387521525390615504949092187441218246679104731442473022013980160407007017175697317900483275246652938800"
      ]
     },
     "execution_count": 5,
     "metadata": {},
     "output_type": "execute_result"
    }
   ],
   "source": [
    "fibonacci(900)"
   ]
  },
  {
   "cell_type": "code",
   "execution_count": 6,
   "metadata": {},
   "outputs": [],
   "source": [
    "from numpy import matrix\n",
    "\n",
    "def fib(n):\n",
    "    return (matrix(\n",
    "        '0 1; 1 1' if n >= 0 else '-1 1; 1 0', object\n",
    "        ) ** abs(n))[0, 1]"
   ]
  },
  {
   "cell_type": "code",
   "execution_count": 83,
   "metadata": {},
   "outputs": [],
   "source": [
    "s = 'HELLOWORLDASR'\n",
    "k = \"ABCXYZ\""
   ]
  },
  {
   "cell_type": "code",
   "execution_count": 85,
   "metadata": {},
   "outputs": [
    {
     "name": "stdout",
     "output_type": "stream",
     "text": [
      "['H', 'F', 'N', 'I', 'M', 'V', 'O', 'S', 'N', 'A', 'Y', 'R', 'R']\n"
     ]
    }
   ],
   "source": [
    "s = 'HELLOWORLDASR'\n",
    "k = \"ABCXYZ\"\n",
    "\n",
    "def vingere_cyper(s, k):\n",
    "    alphabet_mapping = {\n",
    "        'A': 0,\n",
    "        'B': 1,\n",
    "        'C': 2,\n",
    "        'D': 3,\n",
    "        'E': 4,\n",
    "        'F': 5,\n",
    "        'G': 6,\n",
    "        'H': 7,\n",
    "        'I': 8,\n",
    "        'J': 9,\n",
    "        'K': 10,\n",
    "        'L': 11,\n",
    "        'M': 12,\n",
    "        'N': 13,\n",
    "        'O': 14,\n",
    "        'P': 15,\n",
    "        'Q': 16,\n",
    "        'R': 17,\n",
    "        'S': 18,\n",
    "        'T': 19,\n",
    "        'U': 20,\n",
    "        'V': 21,\n",
    "        'W': 22,\n",
    "        'X': 23,\n",
    "        'Y': 24,\n",
    "        'Z': 25\n",
    "    }\n",
    "\n",
    "    number_mapping  = {value: key for key, value in alphabet_mapping.items()}\n",
    "\n",
    "\n",
    "\n",
    "\n",
    "    le = len(s)\n",
    "    while len(k) < le:\n",
    "        k += k\n",
    "\n",
    "    k = k[:le]\n",
    "\n",
    "    out = []\n",
    "\n",
    "    for i in range(len(s)):\n",
    "        mes_val = alphabet_mapping[s[i]]\n",
    "        key_val = alphabet_mapping[k[i]]\n",
    "\n",
    "        out.append(number_mapping[(mes_val + key_val) % 26])\n",
    "\n",
    "    return out\n"
   ]
  },
  {
   "cell_type": "code",
   "execution_count": 99,
   "metadata": {},
   "outputs": [
    {
     "ename": "IndexError",
     "evalue": "list index out of range",
     "output_type": "error",
     "traceback": [
      "\u001b[0;31m---------------------------------------------------------------------------\u001b[0m",
      "\u001b[0;31mIndexError\u001b[0m                                Traceback (most recent call last)",
      "Cell \u001b[0;32mIn[99], line 6\u001b[0m\n\u001b[1;32m      4\u001b[0m \u001b[39mfor\u001b[39;00m i \u001b[39min\u001b[39;00m \u001b[39mrange\u001b[39m(\u001b[39mlen\u001b[39m(d)):\n\u001b[1;32m      5\u001b[0m     \u001b[39mfor\u001b[39;00m j \u001b[39min\u001b[39;00m \u001b[39mrange\u001b[39m(\u001b[39mlen\u001b[39m(d)):\n\u001b[0;32m----> 6\u001b[0m         \u001b[39mif\u001b[39;00m d[i] \u001b[39m==\u001b[39m \u001b[39m'\u001b[39m\u001b[39mNORTH\u001b[39m\u001b[39m'\u001b[39m \u001b[39mand\u001b[39;00m d[j] \u001b[39m==\u001b[39m \u001b[39m'\u001b[39m\u001b[39mSOUTH\u001b[39m\u001b[39m'\u001b[39m:\n\u001b[1;32m      7\u001b[0m             d\u001b[39m.\u001b[39mremove(d[i])\n\u001b[1;32m      8\u001b[0m             d\u001b[39m.\u001b[39mremove(d[j])\n",
      "\u001b[0;31mIndexError\u001b[0m: list index out of range"
     ]
    }
   ],
   "source": [
    "d = [\"NORTH\", \"SOUTH\", \"SOUTH\", \"EAST\", \"WEST\", \"NORTH\", \"WEST\"]\n",
    "\n",
    "\n",
    "for i in range(len(d)):\n",
    "    for j in range(len(d)):\n",
    "        if d[i] == 'NORTH' and d[j] == 'SOUTH':\n",
    "            d.remove(d[i])\n",
    "            d.remove(d[j])\n",
    "            break\n",
    "\n",
    "print(d)\n"
   ]
  },
  {
   "cell_type": "code",
   "execution_count": null,
   "metadata": {},
   "outputs": [],
   "source": []
  }
 ],
 "metadata": {
  "kernelspec": {
   "display_name": ".venv",
   "language": "python",
   "name": "python3"
  },
  "language_info": {
   "codemirror_mode": {
    "name": "ipython",
    "version": 3
   },
   "file_extension": ".py",
   "mimetype": "text/x-python",
   "name": "python",
   "nbconvert_exporter": "python",
   "pygments_lexer": "ipython3",
   "version": "3.10.1"
  },
  "orig_nbformat": 4
 },
 "nbformat": 4,
 "nbformat_minor": 2
}
